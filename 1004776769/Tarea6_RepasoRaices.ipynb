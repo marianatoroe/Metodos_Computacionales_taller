{
  "nbformat": 4,
  "nbformat_minor": 0,
  "metadata": {
    "colab": {
      "name": "Tarea6_RepasoRaices.ipynb",
      "provenance": [],
      "collapsed_sections": []
    },
    "kernelspec": {
      "name": "python3",
      "display_name": "Python 3"
    },
    "language_info": {
      "name": "python"
    }
  },
  "cells": [
    {
      "cell_type": "markdown",
      "metadata": {
        "id": "qOG9j09hDHmE"
      },
      "source": [
        "# Por: Juan Esteban Ospina Holguín y Mariana Toro Escobar."
      ]
    },
    {
      "cell_type": "code",
      "metadata": {
        "id": "eULpRO_XVpkq"
      },
      "source": [
        "import numpy as np\n",
        "import pandas as pd\n",
        "import matplotlib.pylab as plt\n",
        "from scipy import optimize"
      ],
      "execution_count": 1,
      "outputs": []
    },
    {
      "cell_type": "markdown",
      "metadata": {
        "id": "iMtlmOQm42xm"
      },
      "source": [
        "# Problemas \n",
        "\n",
        "#1. Area \n",
        "Hallar el área de un segmento circular cuya area sea igual a una cuarta parte del área del circulo. Para la solución se sugiere lo siguiente:\n",
        "\n",
        "a) Encontrar la ecuacion trascendental.\n",
        "\n",
        "b) Con la ecuación anterior, definir una funcion $f(\\theta)=0$. Emplee la funcion labmda de python.\n",
        "\n",
        "c) Construir una data frame de pandas con la columna \"theta\" con 1000 registros(filas) entre $[-2\\pi, 2\\pi]$. Sugerencia, para construir el data frame emplee la función linspace como sigue : np.linspace(-2*np.pi, 2*np.pi, 1000 )\n",
        "\n",
        "d) Construir una segunda columna titulada \"F_theta\" con los registros f(theta)\n",
        "\n",
        "f) Realice un gráfico de  \"F_theta\" vs \"theta\". Identifique el intervalo de la raiz.\n",
        "\n",
        "Estime el valor del ángulo empleando los siguientes metodos(Emplee  la documentacion):\n",
        "\n",
        "g) [Bisección](https://docs.scipy.org/doc/scipy/reference/generated/scipy.optimize.bisect.html)\n",
        "\n",
        "h) [Newton-Rapshon](https://docs.scipy.org/doc/scipy/reference/generated/scipy.optimize.newton.html)\n",
        "\n",
        "i) [Secante](https://docs.scipy.org/doc/scipy/reference/generated/scipy.optimize.newton.html) \n",
        "\n",
        "j) [Punto Fijo](https://docs.scipy.org/doc/scipy/reference/generated/scipy.optimize.fixed_point.html)\n",
        "\n",
        "\n"
      ]
    },
    {
      "cell_type": "markdown",
      "metadata": {
        "id": "7AeYzSQWDbKp"
      },
      "source": [
        "**Solución:**\n",
        "\n",
        "**a)** Ecuación trascendental:\n",
        "\n",
        "Considerando el área del cono y la del triángulo, respectivamente como\n",
        "\\begin{equation}\n",
        "A_{c}= \\frac{R^2\\theta}{2} \\\\\n",
        "A_{t}= (sin\\frac{\\theta}{2})(cos\\frac{\\theta}{2}) R^2\n",
        "\\end{equation}\n",
        "\n",
        "Se obtiene el área de la región circular a partir de la resta del área del triángulo en la del cono\n",
        "\\begin{equation}\n",
        "A=\\frac{R^2\\theta}{2} - (sin\\frac{\\theta}{2})(cos\\frac{\\theta}{2}) R^2\n",
        "\\end{equation}\n",
        "\n",
        "Luego, considerando que esta es igual a un cuarto del área de un círculo\n",
        "\\begin{equation}\n",
        "\\frac{\\pi R^2}{4}=\\frac{R^2\\theta}{2} - (sin\\frac{\\theta}{2})(cos\\frac{\\theta}{2}) R^2 \\\\\n",
        "\\frac{\\pi}{2}= \\theta- 2(sin\\frac{\\theta}{2})(cos\\frac{\\theta}{2})  \\textbf{[1]}\n",
        "\\end{equation}\n",
        "\n",
        "Se tiene en cuenta para [1] la siguiente identidad trigonométrica\n",
        "\\begin{equation} \n",
        "sin\\theta=2(sin\\frac{\\theta}{2})(cos\\frac{\\theta}{2})\n",
        "\\end{equation}\n",
        "\n",
        "Por último, se consigue la ecuación\n",
        "\\begin{equation}\n",
        "\\frac{\\pi}{2} =\\theta-sin\\theta\n",
        "\\end{equation}\n",
        "\n",
        "\n"
      ]
    },
    {
      "cell_type": "markdown",
      "metadata": {
        "id": "IK2bCjZXFOR-"
      },
      "source": [
        "**b)** Definir una funcion  $f(\\theta)=0$:\n",
        "\n",
        "Se tiene que \n",
        "\\begin{equation}\n",
        "f(\\theta)= \\theta- \\sin \\theta - \\frac{\\pi}{2}=0\n",
        "\\end{equation}"
      ]
    },
    {
      "cell_type": "code",
      "metadata": {
        "id": "S6wPdN92FsYH"
      },
      "source": [
        "f = lambda theta: theta-np.sin(theta)-np.pi/2 #Usando la función lambda"
      ],
      "execution_count": 2,
      "outputs": []
    },
    {
      "cell_type": "markdown",
      "metadata": {
        "id": "X_oNcSQmGOGH"
      },
      "source": [
        "**c)** Construir data frame de pandas con la columna \"theta\" con 1000 registros(filas) entre  [−2π,2π] ."
      ]
    },
    {
      "cell_type": "code",
      "metadata": {
        "id": "1rBnaTtP43Zj",
        "colab": {
          "base_uri": "https://localhost:8080/",
          "height": 419
        },
        "outputId": "109ba945-37b1-485b-eca8-8fdfb56f7de9"
      },
      "source": [
        "theta=np.linspace(-2*(np.pi),2*(np.pi),1000) #Número de registros\n",
        "\n",
        "df = pd.DataFrame() #Data frame\n",
        "df[\"theta\"] = theta\n",
        "df"
      ],
      "execution_count": 3,
      "outputs": [
        {
          "output_type": "execute_result",
          "data": {
            "text/html": [
              "<div>\n",
              "<style scoped>\n",
              "    .dataframe tbody tr th:only-of-type {\n",
              "        vertical-align: middle;\n",
              "    }\n",
              "\n",
              "    .dataframe tbody tr th {\n",
              "        vertical-align: top;\n",
              "    }\n",
              "\n",
              "    .dataframe thead th {\n",
              "        text-align: right;\n",
              "    }\n",
              "</style>\n",
              "<table border=\"1\" class=\"dataframe\">\n",
              "  <thead>\n",
              "    <tr style=\"text-align: right;\">\n",
              "      <th></th>\n",
              "      <th>theta</th>\n",
              "    </tr>\n",
              "  </thead>\n",
              "  <tbody>\n",
              "    <tr>\n",
              "      <th>0</th>\n",
              "      <td>-6.283185</td>\n",
              "    </tr>\n",
              "    <tr>\n",
              "      <th>1</th>\n",
              "      <td>-6.270606</td>\n",
              "    </tr>\n",
              "    <tr>\n",
              "      <th>2</th>\n",
              "      <td>-6.258027</td>\n",
              "    </tr>\n",
              "    <tr>\n",
              "      <th>3</th>\n",
              "      <td>-6.245448</td>\n",
              "    </tr>\n",
              "    <tr>\n",
              "      <th>4</th>\n",
              "      <td>-6.232870</td>\n",
              "    </tr>\n",
              "    <tr>\n",
              "      <th>...</th>\n",
              "      <td>...</td>\n",
              "    </tr>\n",
              "    <tr>\n",
              "      <th>995</th>\n",
              "      <td>6.232870</td>\n",
              "    </tr>\n",
              "    <tr>\n",
              "      <th>996</th>\n",
              "      <td>6.245448</td>\n",
              "    </tr>\n",
              "    <tr>\n",
              "      <th>997</th>\n",
              "      <td>6.258027</td>\n",
              "    </tr>\n",
              "    <tr>\n",
              "      <th>998</th>\n",
              "      <td>6.270606</td>\n",
              "    </tr>\n",
              "    <tr>\n",
              "      <th>999</th>\n",
              "      <td>6.283185</td>\n",
              "    </tr>\n",
              "  </tbody>\n",
              "</table>\n",
              "<p>1000 rows × 1 columns</p>\n",
              "</div>"
            ],
            "text/plain": [
              "        theta\n",
              "0   -6.283185\n",
              "1   -6.270606\n",
              "2   -6.258027\n",
              "3   -6.245448\n",
              "4   -6.232870\n",
              "..        ...\n",
              "995  6.232870\n",
              "996  6.245448\n",
              "997  6.258027\n",
              "998  6.270606\n",
              "999  6.283185\n",
              "\n",
              "[1000 rows x 1 columns]"
            ]
          },
          "metadata": {},
          "execution_count": 3
        }
      ]
    },
    {
      "cell_type": "markdown",
      "metadata": {
        "id": "4NnF3P3DG8oF"
      },
      "source": [
        "**c)** Construir una segunda columna titulada \"F_theta\" con los registros f(theta)"
      ]
    },
    {
      "cell_type": "code",
      "metadata": {
        "colab": {
          "base_uri": "https://localhost:8080/",
          "height": 419
        },
        "id": "Xuy1JCNhG7of",
        "outputId": "a3081c4c-4151-49bf-f994-b652ca5c6595"
      },
      "source": [
        "df[\"F_theta\"] = f(theta) #Nueva columna\n",
        "df"
      ],
      "execution_count": 4,
      "outputs": [
        {
          "output_type": "execute_result",
          "data": {
            "text/html": [
              "<div>\n",
              "<style scoped>\n",
              "    .dataframe tbody tr th:only-of-type {\n",
              "        vertical-align: middle;\n",
              "    }\n",
              "\n",
              "    .dataframe tbody tr th {\n",
              "        vertical-align: top;\n",
              "    }\n",
              "\n",
              "    .dataframe thead th {\n",
              "        text-align: right;\n",
              "    }\n",
              "</style>\n",
              "<table border=\"1\" class=\"dataframe\">\n",
              "  <thead>\n",
              "    <tr style=\"text-align: right;\">\n",
              "      <th></th>\n",
              "      <th>theta</th>\n",
              "      <th>F_theta</th>\n",
              "    </tr>\n",
              "  </thead>\n",
              "  <tbody>\n",
              "    <tr>\n",
              "      <th>0</th>\n",
              "      <td>-6.283185</td>\n",
              "      <td>-7.853982</td>\n",
              "    </tr>\n",
              "    <tr>\n",
              "      <th>1</th>\n",
              "      <td>-6.270606</td>\n",
              "      <td>-7.853981</td>\n",
              "    </tr>\n",
              "    <tr>\n",
              "      <th>2</th>\n",
              "      <td>-6.258027</td>\n",
              "      <td>-7.853979</td>\n",
              "    </tr>\n",
              "    <tr>\n",
              "      <th>3</th>\n",
              "      <td>-6.245448</td>\n",
              "      <td>-7.853973</td>\n",
              "    </tr>\n",
              "    <tr>\n",
              "      <th>4</th>\n",
              "      <td>-6.232870</td>\n",
              "      <td>-7.853960</td>\n",
              "    </tr>\n",
              "    <tr>\n",
              "      <th>...</th>\n",
              "      <td>...</td>\n",
              "      <td>...</td>\n",
              "    </tr>\n",
              "    <tr>\n",
              "      <th>995</th>\n",
              "      <td>6.232870</td>\n",
              "      <td>4.712368</td>\n",
              "    </tr>\n",
              "    <tr>\n",
              "      <th>996</th>\n",
              "      <td>6.245448</td>\n",
              "      <td>4.712380</td>\n",
              "    </tr>\n",
              "    <tr>\n",
              "      <th>997</th>\n",
              "      <td>6.258027</td>\n",
              "      <td>4.712386</td>\n",
              "    </tr>\n",
              "    <tr>\n",
              "      <th>998</th>\n",
              "      <td>6.270606</td>\n",
              "      <td>4.712389</td>\n",
              "    </tr>\n",
              "    <tr>\n",
              "      <th>999</th>\n",
              "      <td>6.283185</td>\n",
              "      <td>4.712389</td>\n",
              "    </tr>\n",
              "  </tbody>\n",
              "</table>\n",
              "<p>1000 rows × 2 columns</p>\n",
              "</div>"
            ],
            "text/plain": [
              "        theta   F_theta\n",
              "0   -6.283185 -7.853982\n",
              "1   -6.270606 -7.853981\n",
              "2   -6.258027 -7.853979\n",
              "3   -6.245448 -7.853973\n",
              "4   -6.232870 -7.853960\n",
              "..        ...       ...\n",
              "995  6.232870  4.712368\n",
              "996  6.245448  4.712380\n",
              "997  6.258027  4.712386\n",
              "998  6.270606  4.712389\n",
              "999  6.283185  4.712389\n",
              "\n",
              "[1000 rows x 2 columns]"
            ]
          },
          "metadata": {},
          "execution_count": 4
        }
      ]
    },
    {
      "cell_type": "markdown",
      "metadata": {
        "id": "jdDjxipCHQNQ"
      },
      "source": [
        "**d)** Realizar un gráfico de \"F_theta\" vs \"theta\""
      ]
    },
    {
      "cell_type": "code",
      "metadata": {
        "colab": {
          "base_uri": "https://localhost:8080/",
          "height": 297
        },
        "id": "J4of-xMtIGdF",
        "outputId": "d2349daf-366c-4321-f4e8-6ec478b46479"
      },
      "source": [
        "plt.figure()\n",
        "plt.plot(df[\"theta\"], df[\"F_theta\"], c=\"m\", label=\"$f(\\\\theta): \\\\theta-np.sin(\\\\theta)-np.pi/2$\")\n",
        "plt.title(\"Fig. 1\")\n",
        "plt.xlabel(\"$\\\\theta$\")\n",
        "plt.ylabel(\"$f(\\\\theta)$\")\n",
        "plt.legend()\n",
        "plt.grid()\n",
        "plt.show()"
      ],
      "execution_count": 5,
      "outputs": [
        {
          "output_type": "display_data",
          "data": {
            "image/png": "[encoded data removed]",
            "text/plain": [
              "<Figure size 432x288 with 1 Axes>"
            ]
          },
          "metadata": {
            "needs_background": "light"
          }
        }
      ]
    },
    {
      "cell_type": "markdown",
      "metadata": {
        "id": "yhlia4umMLCh"
      },
      "source": [
        "Estimar el valor del ángulo:\n",
        "\n",
        "**g)** Bisección:"
      ]
    },
    {
      "cell_type": "code",
      "metadata": {
        "colab": {
          "base_uri": "https://localhost:8080/"
        },
        "id": "kWI0MCEz2ib6",
        "outputId": "51dba65a-95f5-4202-91f3-12ffd4993aa4"
      },
      "source": [
        "root1 = optimize.bisect(f, 0, 4)\n",
        "print(\"θ=\", root1)"
      ],
      "execution_count": 6,
      "outputs": [
        {
          "output_type": "stream",
          "name": "stdout",
          "text": [
            "θ= 2.309881460010729\n"
          ]
        }
      ]
    },
    {
      "cell_type": "markdown",
      "metadata": {
        "id": "o__89awSNbGA"
      },
      "source": [
        "**h)** Newton-Rapshon:"
      ]
    },
    {
      "cell_type": "code",
      "metadata": {
        "colab": {
          "base_uri": "https://localhost:8080/"
        },
        "id": "CXv6zKcLTSSM",
        "outputId": "844cb0b5-6d0d-4c5b-be7e-47438a0508b0"
      },
      "source": [
        "df = lambda theta: 1-np.cos(theta) #Derivada \n",
        "root2 = optimize.newton(f, 2, df, args=(), tol=1.48e-08, maxiter=1000, fprime2=None, x1=None, rtol=0.0, full_output=False, disp=True)\n",
        "print(\"θ=\", root2)"
      ],
      "execution_count": 7,
      "outputs": [
        {
          "output_type": "stream",
          "name": "stdout",
          "text": [
            "θ= 2.3098814600100575\n"
          ]
        }
      ]
    },
    {
      "cell_type": "markdown",
      "metadata": {
        "id": "YECvE-6-OiwT"
      },
      "source": [
        "**i)** Secante:"
      ]
    },
    {
      "cell_type": "code",
      "metadata": {
        "colab": {
          "base_uri": "https://localhost:8080/"
        },
        "id": "5ec3bCKk7ut5",
        "outputId": "e0dd6892-0dcd-480b-ac9b-7ebffe11f68b"
      },
      "source": [
        "root3 = optimize.newton(f, 2, fprime=None, args=(), tol=1.48e-08, maxiter=50, fprime2=None, x1=None, rtol=0.0, full_output=False, disp=True)\n",
        "print(\"θ=\", root3)"
      ],
      "execution_count": 8,
      "outputs": [
        {
          "output_type": "stream",
          "name": "stdout",
          "text": [
            "θ= 2.309881460010033\n"
          ]
        }
      ]
    },
    {
      "cell_type": "markdown",
      "metadata": {
        "id": "meg5GnL5Onl8"
      },
      "source": [
        "**j)** Punto fijo:"
      ]
    },
    {
      "cell_type": "code",
      "metadata": {
        "colab": {
          "base_uri": "https://localhost:8080/"
        },
        "id": "gsxGUyGxPbmw",
        "outputId": "0a0f7605-9f64-429a-b470-b3c712571a41"
      },
      "source": [
        "g = lambda theta: 2*theta-np.sin(theta)-np.pi/2 #Nueva función g(θ)\n",
        "root4 = optimize.fixed_point(g, 2, args=(), xtol=1e-08, maxiter=100, method='del2')\n",
        "print(\"θ=\", root4)"
      ],
      "execution_count": 9,
      "outputs": [
        {
          "output_type": "stream",
          "name": "stdout",
          "text": [
            "θ= 2.309881460010057\n"
          ]
        }
      ]
    },
    {
      "cell_type": "markdown",
      "metadata": {
        "id": "AqZSU8CE46S9"
      },
      "source": [
        "\n",
        "\n",
        "\n",
        "# 2. Movimiento de proyectiles en presencia de viento.\n",
        "\n",
        "Supongamos que un proyectil es lanzado desde el origen con una rapidez $v=vo( \\cos \\theta , \\sin \\theta $. Supongamos además que el efecto del viento sobre el proyectil es el de una fuerza proporcional a la velocidad relativa entre el viento y el proyectil. Teniendo presente que si u es la velocidad del viento y $\\alpha$ el ángulo que hace dirección de esta velocidad con el eje x, se puede entrontrar las siguientes ecuaciones diferenciales, asociada al estado de movimiento del [proyectil](https://iopscience.iop.org/article/10.1088/0143-0807/36/2/025016/meta):\n",
        "\n",
        "\n",
        "\\begin{equation}\n",
        "m\\frac{dv_x}{dt} = -mb(v_x-u\\cos \\alpha )\n",
        "\\end{equation}\n",
        "\n",
        "\\begin{equation}\n",
        "m\\frac{dv_y}{dt} = -mg-mb(v_x-u\\sin \\alpha ),\n",
        "\\end{equation}\n",
        "\n",
        "donde b es el párametro de rozamiento. La soluciones a las ecuaciones anteriores vienen dadas por:\n",
        "\n",
        "Posición en x\n",
        "\\begin{equation}\n",
        "x=(u\\cos \\alpha) t + \\frac{1}{b} (v_0\\cos \\theta_0 -u \\cos\\alpha)(1-\\mathrm{exp}(-bt))\n",
        "\\end{equation}\n",
        "\n",
        "Posicion en y \n",
        "\\begin{equation}\n",
        "y= \\frac{1}{b}\\left(\\frac{g}{b}+v_0 \\sin \\theta_0 -u\\sin\\alpha \\right)(1-\\mathrm{exp}(-bt))-\\left( \\frac{g}{b}-u\\sin\\alpha\\right)t\n",
        "\\end{equation}\n",
        "\n",
        "Ver imagen:  http://www.sc.ehu.es/sbweb/fisica3/fluidos/viento/parabolico.html\n",
        "\n",
        "\n",
        "```\n",
        "\n",
        "\n",
        "\n",
        "1. Defina dos funciones, una para x y otra para y. \n",
        "\n",
        "`\n",
        "2. Construya un diccionario con las claves \"X\", \"Y\", \"Tiempo\"\n",
        "\n",
        "3. Con el diccionario construya un data frame de pandas llamado df con los nombres de columnas \"X\", \"Y\", \"Tiempo\"  https://pandas.pydata.org/docs/reference/api/pandas.DataFrame.from_dict.html. Defina 1000 regitros para el intervalo de tiempo elegido.\n",
        "\n",
        "\n",
        "4. Realice un gráfico de x como función del tiempo, de y como función del tiempo y la trayectoria de la partícula (df[\"X\"], df[\"tiempo\"], df[\"Y\"]).\n",
        "\n",
        "\n",
        "5. Determine el alcance máximo de la partícula, para ello tome  la solucion teórica con $y=0$, solucione numéricamente la ecuación para t y remplace este valor en la ecuación para x. Resuelvalo para $\\theta=45^{o}$.  \n",
        "\n",
        "6. Construya una  grafica del alcance máximo R como función de $\\theta$, varie $\\theta$  entre 10 y 80 grados cada 5 grados.\n",
        "\n",
        "7. Realice una interpolacion de R como función de theta.\n",
        "\n",
        "\n",
        "\n",
        "\n",
        "\n",
        "\n",
        "\n"
      ]
    },
    {
      "cell_type": "markdown",
      "metadata": {
        "id": "i-6twuZmS9Yx"
      },
      "source": [
        "**Solución:**\n",
        "\n",
        "**0)** Definir parámetros iniciales:"
      ]
    },
    {
      "cell_type": "code",
      "metadata": {
        "id": "Ns71g94a2mER"
      },
      "source": [
        "v0 = 60                    #Velocidad en m/s\n",
        "alpha = np.pi              #Angulo del viento\n",
        "theta = np.deg2rad(45)    \n",
        "u =0                        #rapidez del viento\n",
        "b = 0.05                   #Parametro de friccion \n",
        "g = 9.8                    #Aceleracion de la gravedad m/s2\n",
        "\n",
        "Params = (alpha, v0, b, u, g)  #Parametros en tupla. Angulo de lanzamiento"
      ],
      "execution_count": 10,
      "outputs": []
    },
    {
      "cell_type": "markdown",
      "metadata": {
        "id": "AsHR4ajXTWj9"
      },
      "source": [
        "**1)** Definir funciones para X y Y:"
      ]
    },
    {
      "cell_type": "code",
      "metadata": {
        "id": "HEEtRuug464L"
      },
      "source": [
        "def pos_x(t, theta, alpha, v0, b, u, g): #Posición en x\n",
        "  x = (u*np.cos(alpha))*t+(1./b)*(v0*np.cos(theta)-u*np.cos(alpha))*(1-np.e**(-b*t))             \n",
        "  return x\n",
        "    \n",
        "def pos_y(t, theta, alpha, v0, b, u,g): #Posición en y\n",
        "  y = (1./b)*((g/b)+v0*np.sin(theta)-u*np.sin(alpha))*(1-np.e**(-b*t))-((g/b)-u*np.sin(alpha))*t \n",
        "  return y"
      ],
      "execution_count": 11,
      "outputs": []
    },
    {
      "cell_type": "markdown",
      "metadata": {
        "id": "78iyGtbMVvsp"
      },
      "source": [
        "**2)** Diccionario con las claves \"X\", \"Y\", \"Tiempo\":"
      ]
    },
    {
      "cell_type": "code",
      "metadata": {
        "id": "YbGxwxtf3ngv",
        "colab": {
          "base_uri": "https://localhost:8080/"
        },
        "outputId": "1f8b4fb9-d7d7-4cd8-e259-ef61da68e489"
      },
      "source": [
        "t = np.linspace(0, 20, 100)  \n",
        "x = pos_x(t, theta, *Params)\n",
        "y = pos_y(t, theta, *Params) \n",
        "pos = { \"X\": x , \"Y\": y, \"Tiempo\": t } #Diccionario\n",
        "pos"
      ],
      "execution_count": 12,
      "outputs": [
        {
          "output_type": "execute_result",
          "data": {
            "text/plain": [
              "{'Tiempo': array([ 0.        ,  0.2020202 ,  0.4040404 ,  0.60606061,  0.80808081,\n",
              "         1.01010101,  1.21212121,  1.41414141,  1.61616162,  1.81818182,\n",
              "         2.02020202,  2.22222222,  2.42424242,  2.62626263,  2.82828283,\n",
              "         3.03030303,  3.23232323,  3.43434343,  3.63636364,  3.83838384,\n",
              "         4.04040404,  4.24242424,  4.44444444,  4.64646465,  4.84848485,\n",
              "         5.05050505,  5.25252525,  5.45454545,  5.65656566,  5.85858586,\n",
              "         6.06060606,  6.26262626,  6.46464646,  6.66666667,  6.86868687,\n",
              "         7.07070707,  7.27272727,  7.47474747,  7.67676768,  7.87878788,\n",
              "         8.08080808,  8.28282828,  8.48484848,  8.68686869,  8.88888889,\n",
              "         9.09090909,  9.29292929,  9.49494949,  9.6969697 ,  9.8989899 ,\n",
              "        10.1010101 , 10.3030303 , 10.50505051, 10.70707071, 10.90909091,\n",
              "        11.11111111, 11.31313131, 11.51515152, 11.71717172, 11.91919192,\n",
              "        12.12121212, 12.32323232, 12.52525253, 12.72727273, 12.92929293,\n",
              "        13.13131313, 13.33333333, 13.53535354, 13.73737374, 13.93939394,\n",
              "        14.14141414, 14.34343434, 14.54545455, 14.74747475, 14.94949495,\n",
              "        15.15151515, 15.35353535, 15.55555556, 15.75757576, 15.95959596,\n",
              "        16.16161616, 16.36363636, 16.56565657, 16.76767677, 16.96969697,\n",
              "        17.17171717, 17.37373737, 17.57575758, 17.77777778, 17.97979798,\n",
              "        18.18181818, 18.38383838, 18.58585859, 18.78787879, 18.98989899,\n",
              "        19.19191919, 19.39393939, 19.5959596 , 19.7979798 , 20.        ]),\n",
              " 'X': array([  0.        ,   8.52784884,  16.96999137,  25.32728897,\n",
              "         33.60059434,  41.79075162,  49.89859646,  57.9249561 ,\n",
              "         65.8706495 ,  73.73648736,  81.52327224,  89.23179863,\n",
              "         96.86285306, 104.41721412, 111.8956526 , 119.29893152,\n",
              "        126.62780626, 133.8830246 , 141.06532678, 148.17544563,\n",
              "        155.2141066 , 162.18202787, 169.07992036, 175.90848789,\n",
              "        182.66842718, 189.36042796, 195.98517301, 202.54333828,\n",
              "        209.0355929 , 215.46259927, 221.82501317, 228.12348375,\n",
              "        234.35865365, 240.53115906, 246.64162976, 252.69068922,\n",
              "        258.67895462, 264.60703696, 270.47554109, 276.28506577,\n",
              "        282.03620377, 287.72954187, 293.36566098, 298.94513615,\n",
              "        304.46853668, 309.93642611, 315.34936234, 320.70789766,\n",
              "        326.01257881, 331.26394703, 336.46253813, 341.60888253,\n",
              "        346.70350531, 351.74692628, 356.73966004, 361.68221598,\n",
              "        366.57509843, 371.41880658, 376.21383467, 380.96067193,\n",
              "        385.65980268, 390.31170639, 394.91685769, 399.47572646,\n",
              "        403.98877784, 408.4564723 , 412.87926569, 417.25760927,\n",
              "        421.59194977, 425.88272943, 430.13038604, 434.33535299,\n",
              "        438.49805933, 442.61892977, 446.69838478, 450.7368406 ,\n",
              "        454.73470926, 458.69239867, 462.61031265, 466.48885094,\n",
              "        470.32840928, 474.12937941, 477.89214917, 481.61710246,\n",
              "        485.30461936, 488.9550761 , 492.56884514, 496.1462952 ,\n",
              "        499.68779129, 503.19369476, 506.66436331, 510.10015107,\n",
              "        513.50140859, 516.86848291, 520.20171757, 523.50145267,\n",
              "        526.76802488, 530.0017675 , 533.20301047, 536.37208041]),\n",
              " 'Y': array([   0.        ,    8.32854088,   16.17543256,   23.54551569,\n",
              "          30.4435823 ,   36.8743762 ,   42.84259359,   48.35288342,\n",
              "          53.40984795,   58.01804317,   62.18197928,   65.90612117,\n",
              "          69.19488883,   72.05265786,   74.48375986,   76.4924829 ,\n",
              "          78.08307196,   79.25972937,   80.0266152 ,   80.38784772,\n",
              "          80.34750381,   79.9096194 ,   79.07818982,   77.85717026,\n",
              "          76.25047619,   74.26198367,   71.89552987,   69.15491334,\n",
              "          66.04389448,   62.56619591,   58.72550281,   54.52546334,\n",
              "          49.96968898,   45.06175494,   39.80520048,   34.20352928,\n",
              "          28.26020984,   21.97867577,   15.36232618,    8.41452603,\n",
              "           1.13860646,   -6.4621349 ,  -14.38443351,  -22.62505768,\n",
              "         -31.18080819,  -40.04851796,  -49.22505175,  -58.70730582,\n",
              "         -68.49220764,  -78.57671554,  -88.95781844,  -99.63253551,\n",
              "        -110.59791587, -121.85103832, -133.38901098, -145.20897108,\n",
              "        -157.3080846 , -169.68354598, -182.3325779 , -195.25243092,\n",
              "        -208.44038325, -221.89374044, -235.60983513, -249.58602676,\n",
              "        -263.81970133, -278.30827107, -293.04917425, -308.03987488,\n",
              "        -323.27786246, -338.7606517 , -354.48578232, -370.45081873,\n",
              "        -386.65334985, -403.09098881, -419.76137275, -436.66216253,\n",
              "        -453.79104254, -471.14572044, -488.72392691, -506.52341547,\n",
              "        -524.54196218, -542.77736548, -561.22744592, -579.89004596,\n",
              "        -598.76302974, -617.84428287, -637.13171222, -656.62324567,\n",
              "        -676.31683194, -696.21044038, -716.30206072, -736.58970291,\n",
              "        -757.0713969 , -777.74519244, -798.60915887, -819.66138495,\n",
              "        -840.89997863, -862.32306689, -883.92879553, -905.71532898])}"
            ]
          },
          "metadata": {},
          "execution_count": 12
        }
      ]
    },
    {
      "cell_type": "markdown",
      "metadata": {
        "id": "g-x_g0u1ayqf"
      },
      "source": [
        "**3)** Data frame de pandas llamado df con los nombres de columnas \"X\", \"Y\", \"Tiempo\":"
      ]
    },
    {
      "cell_type": "code",
      "metadata": {
        "colab": {
          "base_uri": "https://localhost:8080/",
          "height": 419
        },
        "id": "cgig3cg2WLZF",
        "outputId": "86ca5bf4-6f1e-4dc4-aa67-0a4f168cd083"
      },
      "source": [
        "df = pd.DataFrame.from_dict(pos)\n",
        "df"
      ],
      "execution_count": 13,
      "outputs": [
        {
          "output_type": "execute_result",
          "data": {
            "text/html": [
              "<div>\n",
              "<style scoped>\n",
              "    .dataframe tbody tr th:only-of-type {\n",
              "        vertical-align: middle;\n",
              "    }\n",
              "\n",
              "    .dataframe tbody tr th {\n",
              "        vertical-align: top;\n",
              "    }\n",
              "\n",
              "    .dataframe thead th {\n",
              "        text-align: right;\n",
              "    }\n",
              "</style>\n",
              "<table border=\"1\" class=\"dataframe\">\n",
              "  <thead>\n",
              "    <tr style=\"text-align: right;\">\n",
              "      <th></th>\n",
              "      <th>X</th>\n",
              "      <th>Y</th>\n",
              "      <th>Tiempo</th>\n",
              "    </tr>\n",
              "  </thead>\n",
              "  <tbody>\n",
              "    <tr>\n",
              "      <th>0</th>\n",
              "      <td>0.000000</td>\n",
              "      <td>0.000000</td>\n",
              "      <td>0.000000</td>\n",
              "    </tr>\n",
              "    <tr>\n",
              "      <th>1</th>\n",
              "      <td>8.527849</td>\n",
              "      <td>8.328541</td>\n",
              "      <td>0.202020</td>\n",
              "    </tr>\n",
              "    <tr>\n",
              "      <th>2</th>\n",
              "      <td>16.969991</td>\n",
              "      <td>16.175433</td>\n",
              "      <td>0.404040</td>\n",
              "    </tr>\n",
              "    <tr>\n",
              "      <th>3</th>\n",
              "      <td>25.327289</td>\n",
              "      <td>23.545516</td>\n",
              "      <td>0.606061</td>\n",
              "    </tr>\n",
              "    <tr>\n",
              "      <th>4</th>\n",
              "      <td>33.600594</td>\n",
              "      <td>30.443582</td>\n",
              "      <td>0.808081</td>\n",
              "    </tr>\n",
              "    <tr>\n",
              "      <th>...</th>\n",
              "      <td>...</td>\n",
              "      <td>...</td>\n",
              "      <td>...</td>\n",
              "    </tr>\n",
              "    <tr>\n",
              "      <th>95</th>\n",
              "      <td>523.501453</td>\n",
              "      <td>-819.661385</td>\n",
              "      <td>19.191919</td>\n",
              "    </tr>\n",
              "    <tr>\n",
              "      <th>96</th>\n",
              "      <td>526.768025</td>\n",
              "      <td>-840.899979</td>\n",
              "      <td>19.393939</td>\n",
              "    </tr>\n",
              "    <tr>\n",
              "      <th>97</th>\n",
              "      <td>530.001767</td>\n",
              "      <td>-862.323067</td>\n",
              "      <td>19.595960</td>\n",
              "    </tr>\n",
              "    <tr>\n",
              "      <th>98</th>\n",
              "      <td>533.203010</td>\n",
              "      <td>-883.928796</td>\n",
              "      <td>19.797980</td>\n",
              "    </tr>\n",
              "    <tr>\n",
              "      <th>99</th>\n",
              "      <td>536.372080</td>\n",
              "      <td>-905.715329</td>\n",
              "      <td>20.000000</td>\n",
              "    </tr>\n",
              "  </tbody>\n",
              "</table>\n",
              "<p>100 rows × 3 columns</p>\n",
              "</div>"
            ],
            "text/plain": [
              "             X           Y     Tiempo\n",
              "0     0.000000    0.000000   0.000000\n",
              "1     8.527849    8.328541   0.202020\n",
              "2    16.969991   16.175433   0.404040\n",
              "3    25.327289   23.545516   0.606061\n",
              "4    33.600594   30.443582   0.808081\n",
              "..         ...         ...        ...\n",
              "95  523.501453 -819.661385  19.191919\n",
              "96  526.768025 -840.899979  19.393939\n",
              "97  530.001767 -862.323067  19.595960\n",
              "98  533.203010 -883.928796  19.797980\n",
              "99  536.372080 -905.715329  20.000000\n",
              "\n",
              "[100 rows x 3 columns]"
            ]
          },
          "metadata": {},
          "execution_count": 13
        }
      ]
    },
    {
      "cell_type": "markdown",
      "metadata": {
        "id": "0NgRmd7QbZlZ"
      },
      "source": [
        "**4)** Gráfico de x como función del tiempo, de y como función del tiempo y la trayectoria de la partícula (df[\"X\"], df[\"tiempo\"], df[\"Y\"]):"
      ]
    },
    {
      "cell_type": "code",
      "metadata": {
        "colab": {
          "base_uri": "https://localhost:8080/",
          "height": 377
        },
        "id": "qn-5HkWj2tkn",
        "outputId": "a6c8ba42-e9d6-4605-8132-8b1442eedafd"
      },
      "source": [
        "plt.figure(figsize=(10,5.5))\n",
        "plt.subplot(121)\n",
        "plt.plot(df[\"Tiempo\"], df[\"X\"], color=\"c\", label=\"x en función de t\") #x en función del tiempo\n",
        "plt.plot(df[\"Tiempo\"], df[\"Y\"], color=\"r\", label=\"y en función de t\") #y en función del tiempo\n",
        "plt.xlabel(\"t(s)\")\n",
        "plt.ylabel(\"Posición(m)\")\n",
        "plt.title(\"Theta = \" + str(\"%.3lf\"%theta))\n",
        "plt.legend()\n",
        "plt.grid()\n",
        "\n",
        "plt.subplot(122)\n",
        "plt.plot(df[\"X\"], df[\"Y\"], color=\"b\", label=\"Trayectoria\") #Trayectoria\n",
        "plt.xlabel(\"x(m)\")\n",
        "plt.ylabel(\"y(m)\")\n",
        "plt.legend()\n",
        "plt.title(\"Theta = \" + str(\"%.3lf\"%theta))\n",
        "plt.grid()\n",
        "plt.show()"
      ],
      "execution_count": 14,
      "outputs": [
        {
          "output_type": "display_data",
          "data": {
            "image/png": "[encoded data removed]",
            "text/plain": [
              "<Figure size 720x396 with 2 Axes>"
            ]
          },
          "metadata": {
            "needs_background": "light"
          }
        }
      ]
    },
    {
      "cell_type": "markdown",
      "metadata": {
        "id": "ikhg4AZG6PGx"
      },
      "source": [
        "**5)** Alcance máximo de la partícula:"
      ]
    },
    {
      "cell_type": "code",
      "metadata": {
        "id": "P-3YpnYf_InF",
        "colab": {
          "base_uri": "https://localhost:8080/"
        },
        "outputId": "dca08992-ee4c-4abd-9ebc-03c18d65fd0c"
      },
      "source": [
        "#Hallando el tiempo en el que la partícula llega al suelo\n",
        "tf = optimize.newton(pos_y, 10, args=(theta, alpha, v0, b, u,g)) #y=0\n",
        "print(\"La partícula cae al suelo a los:\", tf, \"s\") \n",
        "\n",
        "#Obteniendo el alcance horizontal máximo\n",
        "xm = pos_x(tf, theta, alpha, v0, b, u, g) #Reemplazando en pos_x\n",
        "print(\"El alcance horizontal máximo es de:\", xm, \"m\")"
      ],
      "execution_count": 15,
      "outputs": [
        {
          "output_type": "stream",
          "name": "stdout",
          "text": [
            "La partícula cae al suelo a los: 8.11162702209557 s\n",
            "El alcance horizontal máximo es de: 282.9084656218106 m\n"
          ]
        }
      ]
    },
    {
      "cell_type": "markdown",
      "metadata": {
        "id": "82fwRXa3F6_m"
      },
      "source": [
        "**6)** Gráfica del alcance máximo R como función de $\\theta$, varíe $\\theta$  entre 10 y 80 grados cada 5 grados:\n"
      ]
    },
    {
      "cell_type": "code",
      "metadata": {
        "colab": {
          "base_uri": "https://localhost:8080/",
          "height": 567
        },
        "id": "QVgbvb6bOoRN",
        "outputId": "fbef27a0-d675-41f5-bcb0-33bfa1cf04f1"
      },
      "source": [
        "th1 = np.arange(10, 80+5, 5)\n",
        "th = np.radians(th1)          #Radianes\n",
        "am = np.zeros(len(th))        #Alcances máximos\n",
        "for i in range(th.size): \n",
        "  tam = optimize.newton(pos_y, 10, args=(th[i], alpha, v0, b, u,g))  #t en el que la partícula llega al suelo\n",
        "  am[i] = pos_x(tam, th[i], alpha, v0, b, u, g)     #Alcance máximo para theta[i]\n",
        "\n",
        "plt.figure(figsize=(12,9))\n",
        "plt.plot(th1, am, color=\"gold\")\n",
        "plt.title('Alcance máximo vs Theta')\n",
        "plt.xlabel(\"θ(°)\")\n",
        "plt.ylabel(\"Alcance máximo R(m)\")\n",
        "plt.xticks(th1)\n",
        "plt.grid()"
      ],
      "execution_count": 16,
      "outputs": [
        {
          "output_type": "display_data",
          "data": {
            "image/png": "[encoded data removed]",
            "text/plain": [
              "<Figure size 864x648 with 1 Axes>"
            ]
          },
          "metadata": {
            "needs_background": "light"
          }
        }
      ]
    },
    {
      "cell_type": "markdown",
      "metadata": {
        "id": "ploZG0RHVXfL"
      },
      "source": [
        "**7)** Interpolación de R como función de theta:"
      ]
    },
    {
      "cell_type": "code",
      "metadata": {
        "id": "IfJQ9z6QVHC-",
        "colab": {
          "base_uri": "https://localhost:8080/",
          "height": 397
        },
        "outputId": "0d41668a-405c-4ace-ea50-4351b5d0d7b8"
      },
      "source": [
        "from scipy.interpolate import lagrange\n",
        "AM = lagrange(th1,am)  \n",
        "print (AM)\n",
        "plt.figure()\n",
        "plt.plot(th1,AM(th1))\n",
        "plt.title('Interpolacion Alcance máximo vs Theta')\n",
        "plt.xlabel(\"θ(°)\")\n",
        "plt.ylabel(\"Alcance máximo R(m)\")\n",
        "plt.xticks(th1)\n",
        "plt.grid()"
      ],
      "execution_count": 17,
      "outputs": [
        {
          "output_type": "stream",
          "name": "stdout",
          "text": [
            "           14             13             12             11\n",
            "4.963e-28 x  - 3.947e-25 x  + 1.457e-22 x  - 3.212e-20 x \n",
            "              10             9             8             7\n",
            " + 4.365e-18 x  - 2.678e-16 x - 2.848e-14 x + 9.343e-12 x\n",
            "              6             5             4            3           2\n",
            " - 1.059e-09 x + 4.536e-09 x + 1.983e-05 x - 0.002035 x - 0.09135 x + 12.82 x - 7.277e-07\n"
          ]
        },
        {
          "output_type": "display_data",
          "data": {
            "image/png": "[encoded data removed]",
            "text/plain": [
              "<Figure size 432x288 with 1 Axes>"
            ]
          },
          "metadata": {
            "needs_background": "light"
          }
        }
      ]
    }
  ]
}