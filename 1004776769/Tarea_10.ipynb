{
  "nbformat": 4,
  "nbformat_minor": 0,
  "metadata": {
    "colab": {
      "name": "Tarea_10.ipynb",
      "provenance": [],
      "collapsed_sections": []
    },
    "kernelspec": {
      "name": "python3",
      "display_name": "Python 3"
    },
    "language_info": {
      "name": "python"
    }
  },
  "cells": [
    {
      "cell_type": "markdown",
      "metadata": {
        "id": "Hn_nsLsvph7h"
      },
      "source": [
        "# Por: Juan Esteban Ospina Holguín y Mariana Toro Escobar."
      ]
    },
    {
      "cell_type": "code",
      "metadata": {
        "id": "IK2LFLqIv0d3"
      },
      "source": [
        "import numpy as np\n",
        "import scipy.linalg as la\n",
        "import matplotlib.pyplot as plt"
      ],
      "execution_count": null,
      "outputs": []
    },
    {
      "cell_type": "markdown",
      "metadata": {
        "id": "1uP5jFGspOoL"
      },
      "source": [
        "**1.** Se sabe que un sistema físico es gobernado por las ecuaciones,\n",
        "\n",
        "\n",
        "\n",
        "$$\n",
        "\\begin{matrix}\n",
        "x' &=& 2x&-y&+z, \\\\\n",
        "y' &=&   &3y&-1z, \\\\\n",
        "z' &=& 2x&+y&+3z,\n",
        "\\end{matrix}\n",
        "$$\n",
        "\n",
        "donde $x',y',z'$ son las derivadas, en forma vectorial esto se puede representar como $\\mathbf{r}'=A\\mathbf{r}$ que tiene solución analítica general, $\\mathbf{r} = e^{At} \\mathbf{r}(0)$.<br> "
      ]
    },
    {
      "cell_type": "markdown",
      "metadata": {
        "id": "UAbnsCRXhDW-"
      },
      "source": [
        "a) Diagonalize $A$.<br> "
      ]
    },
    {
      "cell_type": "code",
      "metadata": {
        "id": "vil_OLZ6pHrp",
        "colab": {
          "base_uri": "https://localhost:8080/"
        },
        "outputId": "1d56d894-8869-430f-fa84-5b11b50fb6c4"
      },
      "source": [
        "x1 = np.array([2, -1, 1])\n",
        "x2 = np.array([0, 3, -1])\n",
        "x3 = np.array([2, 1, +3])\n",
        "A = np.asmatrix([x1,x2,x3])#Se Extrae ma matriz A asociada al sistema\n",
        "E, U = la.eig(A) #Se calculan los vectores y autovalores \n",
        "U = np.asmatrix(U)#Matriz con los autovectores\n",
        "np.diag(E, 0).round()#matriz diagonal con los autovalores"
      ],
      "execution_count": null,
      "outputs": [
        {
          "output_type": "execute_result",
          "data": {
            "text/plain": [
              "array([[4.+0.j, 0.+0.j, 0.+0.j],\n",
              "       [0.+0.j, 2.+0.j, 0.+0.j],\n",
              "       [0.+0.j, 0.+0.j, 2.-0.j]])"
            ]
          },
          "metadata": {},
          "execution_count": 2
        }
      ]
    },
    {
      "cell_type": "markdown",
      "metadata": {
        "id": "NwzHOL3hiIaF"
      },
      "source": [
        "b) Use el hecho de que $f(A) = U f(D) U^{-1}$ para encontrar $x(t),y(t),z(t)$ en el intervalo de tiempo $[0,2]$.<br>."
      ]
    },
    {
      "cell_type": "code",
      "metadata": {
        "id": "S3ymEwjgiOal"
      },
      "source": [
        "r0=np.matrix([1,1,2])#Condición inicial\n",
        "time = np.linspace(0,2,1000)#Tiempo en el que se evalúa \n",
        "x = np.zeros(len(time))#Array de ceros para la posición x\n",
        "y = np.zeros(len(time))#Array de ceros para la posición y\n",
        "z = np.zeros(len(time))#Array de ceros para la posición z\n",
        "f = lambda t: np.exp(E*t) #Función F(D)\n",
        "k =0 #Contador para asignar los datos\n",
        "for t in time:\n",
        "    FD = f(t)#Se calcula f(t)\n",
        "    FD = np.diag(f(t),0)\n",
        "    r = (U@FD@U.I)@r0.T #Se hace la multiplicación matricial para encontrar r\n",
        "    x[k]=np.real(r[0])#Se asigna un dato al array de ceros\n",
        "    y[k]=np.real(r[1])\n",
        "    z[k]=np.real(r[2])\n",
        "    k = k+1"
      ],
      "execution_count": null,
      "outputs": []
    },
    {
      "cell_type": "markdown",
      "metadata": {
        "id": "2wR2Tzq-iSZV"
      },
      "source": [
        "c) Grafique $x(t),y(t),z(t)$ (use la condición inicial $\\mathbf{r}(0)=(1,1,2))$.<br> "
      ]
    },
    {
      "cell_type": "code",
      "metadata": {
        "colab": {
          "base_uri": "https://localhost:8080/",
          "height": 265
        },
        "id": "IoUho_hRiVl1",
        "outputId": "14cf0762-771d-4996-9dbe-dc085b7ad9e5"
      },
      "source": [
        "plt.plot(time,x, label ='x(t)')\n",
        "plt.plot(time,y, label = 'y(t)')\n",
        "plt.plot(time,z, label = 'z(t)')\n",
        "plt.legend();"
      ],
      "execution_count": null,
      "outputs": [
        {
          "output_type": "display_data",
          "data": {
            "image/png": "[encoded data removed]",
            "text/plain": [
              "<Figure size 432x288 with 1 Axes>"
            ]
          },
          "metadata": {
            "needs_background": "light"
          }
        }
      ]
    },
    {
      "cell_type": "markdown",
      "metadata": {
        "id": "3UIQETyOiZb-"
      },
      "source": [
        "d) Compare el resultado a la solución analítica,\n",
        "\n",
        "$$\n",
        "\\begin{align}\n",
        "2x & = x(0)(e^{2t}(1+e^{2t}-2t)) + y(0) (-2te^{2t}) + z(0)(e^{2t}(-1+e^{2t})), \\\\\n",
        "2y & = x(0)(-e^{2t}(-1+e^{2t}-2t)) + y(0)(2(t+1)e^{2t}) + z(0)(-e^{2t}(-1+e^{2t})), \\\\\n",
        "2z & = x(0)(e^{2t}(-1+e^{2t}+2t)) + y(0)(2te^{2t}) + z(0)(e^{2t}(1+e^{2t})).\n",
        "\\end{align}\n",
        "$$"
      ]
    },
    {
      "cell_type": "code",
      "metadata": {
        "colab": {
          "base_uri": "https://localhost:8080/",
          "height": 265
        },
        "id": "FpoXXVcgid34",
        "outputId": "b10a69ee-616e-4071-8fc7-cf35a0f34a90"
      },
      "source": [
        "r = [1,1,2]\n",
        "def X(t):\n",
        "    x = r[0]*(np.exp(2*t)*(1+np.exp(2*t)-2*t))+r[1]*(-2*t*np.exp(2*t))+r[2]*(np.exp(2*t)*(-1+np.exp(2*t)))\n",
        "    return x/2\n",
        "def Y(t):\n",
        "    y = r[0]*(-np.exp(2*t)*(-1+np.exp(2*t)-2*t))+r[1]*(2*(t+1)*np.exp(2*t))+r[2]*(-np.exp(2*t)*(-1+np.exp(2*t)))\n",
        "    return y/2\n",
        "def Z(t):\n",
        "    z = r[0]*(np.exp(2*t)*(-1+np.exp(2*t)+2*t))+r[1]*2*t*np.exp(2*t)+r[2]*np.exp(2*t)*(1+np.exp(2*t))\n",
        "    return z/2\n",
        "plt.plot(time,X(time),label ='x(t) analítica')\n",
        "plt.plot(time,Y(time),label ='y(t) analítica')\n",
        "plt.plot(time,Z(time),label ='z(t) analítica')\n",
        "plt.legend();"
      ],
      "execution_count": null,
      "outputs": [
        {
          "output_type": "display_data",
          "data": {
            "image/png": "[encoded data removed]",
            "text/plain": [
              "<Figure size 432x288 with 1 Axes>"
            ]
          },
          "metadata": {
            "needs_background": "light"
          }
        }
      ]
    },
    {
      "cell_type": "markdown",
      "metadata": {
        "id": "yYZ4cLdtjj2W"
      },
      "source": [
        "Con esto, se concluye que las graficas de las soluciones calculadas (item C) y las soluciones analíticas que se muestran son iguales."
      ]
    },
    {
      "cell_type": "markdown",
      "metadata": {
        "id": "MeV0ZsCApU50"
      },
      "source": [
        "**2.** Un proceso para encriptar un mensaje secreto es usar cierta matrix cuadrada cuyos elementos son enteros con elementos enteros en la inversa. Se recibe un mensaje, se asigna un número a cada letra Por ejemplo, A=1, B=2, C=3, ... etc y espacio=27), se arreglan los números en una matriz de izquierda a derecha en cada fila, donde el número de elementos en la fila es igual al tamano de la matriz de codigo, se multiplica esa matriz por la matriz de código por la derecha, se transcribe el mensaje en una cadena de números y se manda el mensaje. \n",
        "\n",
        "La persona que debe recibir el mensaje conoce la matriz de codigo. El o ellla arrelgan el mensaje encriptado en una matriz de izquierda a derecha en cada fila, en donde el numero de elementos en una fila conicide con el tamano de la matriz de codigo muplicada por la derecha, por el inverso de la matriz de código y puede leer mensaje decodificado.\n",
        "\n",
        "Usted a recibido el siguiente mensaje que fue encriptado usando la matriz A. Decodifiquelo.\n",
        "\n",
        "```\n",
        "A = matrix([[ 1,  2, -3,  4,  5],\n",
        "        [-2, -5,  8, -8, -9],\n",
        "        [ 1,  2, -2,  7,  9],\n",
        "        [ 1,  1,  0,  6, 12],\n",
        "        [ 2,  4, -6,  8, 11]])\n",
        "```\n",
        "\n",
        "Mensaje\n",
        "\n",
        "47,49,-19,257,487,10,-9,63,137,236, 79,142,-184,372,536,59,70,-40,332,588, \n",
        "\n",
        "la primera fila del mensaje es 47,49,-19,257,487\n",
        "\n",
        "¿Cual es el mensaje?\n",
        "\n",
        "\n",
        "\n",
        "```\n",
        "# abc=['A','B','C','D','E','F','G','H','I','J','K','L','M','N','O','P','Q','R','S','T','U','V','W','X','Y','Z',' ']\n",
        "num=['1','2','3','4','5','6','7','8','9','10','11','12','13','14','15','16','17','18','19','20','21','22','23','24','25','26','27']\n",
        "```\n",
        "\n"
      ]
    },
    {
      "cell_type": "code",
      "metadata": {
        "colab": {
          "base_uri": "https://localhost:8080/"
        },
        "id": "Kdjz01Hgpchv",
        "outputId": "b5e02d14-9891-4b1a-88a1-8b5e3db42c2f"
      },
      "source": [
        "\"\"\"\n",
        "  Decodificación del mensaje.\n",
        "\"\"\"\n",
        "\n",
        "# Mensaje encriptado\n",
        "A = np.array([[ 1,  2, -3,  4,  5],\n",
        "        [-2, -5,  8, -8, -9],\n",
        "        [ 1,  2, -2,  7,  9],\n",
        "        [ 1,  1,  0,  6, 12],\n",
        "        [ 2,  4, -6,  8, 11]])\n",
        "\n",
        "B = np.array([[47, 49, -19, 257, 487],\n",
        "              [10, -9, 63, 137, 236],\n",
        "              [79, 142, -184, 372, 536],\n",
        "              [59, 70, -40, 332, 588]])\n",
        "\n",
        "# Inversa de la matriz A\n",
        "I = np.linalg.inv(A)\n",
        "\n",
        "# Producto escalar entre B y la inversa de A\n",
        "P = np.dot(B, I)\n",
        "\n",
        "# Diccionario con las claves\n",
        "dic = {1: 'A', 2: 'B', 3: 'C', 4: 'D', 5: 'E', 6: 'F', 7: 'G', 8: 'H', 9: 'I', 10: 'J', 11: 'K',\n",
        "       12: 'L', 13: 'M', 14: 'N', 15: 'O', 16: 'P', 17: 'Q', 18: 'R', 19: 'S', 20: 'T', 21: 'U',\n",
        "       22: 'V', 23: 'W', 24: 'X', 25: 'Y', 26: 'Z', 27: ' '}\n",
        "\n",
        "mensaje = ''\n",
        "for i in range(P.shape[0]):\n",
        "  for j in range(P.shape[1]):\n",
        "    mensaje += dic[P[i, j].round()]\n",
        "print(\"El mensaje es:\", mensaje)"
      ],
      "execution_count": null,
      "outputs": [
        {
          "output_type": "stream",
          "name": "stdout",
          "text": [
            "El mensaje es: ARE YOU HAVING FUN  \n"
          ]
        }
      ]
    },
    {
      "cell_type": "markdown",
      "metadata": {
        "id": "CGgB8yz3pc3n"
      },
      "source": [
        "3. Construir un programa que permita realizar la multiplicacion de dos matrices. El programa debe establecer si las matrices se pueden multiplicar."
      ]
    },
    {
      "cell_type": "code",
      "metadata": {
        "id": "OKmgFUDctgxd"
      },
      "source": [
        "\"\"\"\n",
        "  Multiplicación de dos matrices.\n",
        "\"\"\"\n",
        "\n",
        "# Considerando C la matriz de la izquierda y D la matriz de la derecha\n",
        "def product(C, D):\n",
        "# Matrices C y D\n",
        "  try: \n",
        "    C = np.array(C)\n",
        "    D = np.array(D)\n",
        "# Matriz producto\n",
        "    M = np.zeros((C.shape[0], D.shape[1]))\n",
        "    for i in range(C.shape[0]):\n",
        "      fila = C[i]\n",
        "      for j in range(D.shape[1]):\n",
        "        columna = D[:, j]\n",
        "        M[i, j] = (fila*columna).sum()\n",
        "    return M\n",
        "  except TypeError:\n",
        "    return \"Estas matrices no pueden multiplicarse\"\n",
        "  except ValueError:\n",
        "    return \"Estas matrices no pueden multiplicarse\""
      ],
      "execution_count": null,
      "outputs": []
    },
    {
      "cell_type": "code",
      "metadata": {
        "colab": {
          "base_uri": "https://localhost:8080/"
        },
        "id": "hestKIR42GQ9",
        "outputId": "3a253525-1486-4366-dc80-5491f9b8ac77"
      },
      "source": [
        "C = np.array([[1, 2], [-2, 0]])\n",
        "print(\"C =\", C)\n",
        "D = np.array([[1, 0, 2], [0, 2, 0]])\n",
        "print(\"D =\", D)\n",
        "\n",
        "print(\" \\n C ⋅ D = M \\n M =\", product(C,D))"
      ],
      "execution_count": null,
      "outputs": [
        {
          "output_type": "stream",
          "name": "stdout",
          "text": [
            "C = [[ 1  2]\n",
            " [-2  0]]\n",
            "D = [[1 0 2]\n",
            " [0 2 0]]\n",
            " \n",
            " C ⋅ D = M \n",
            " M = [[ 1.  4.  2.]\n",
            " [-2.  0. -4.]]\n"
          ]
        }
      ]
    }
  ]
}