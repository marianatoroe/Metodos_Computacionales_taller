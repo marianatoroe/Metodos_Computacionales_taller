{
  "nbformat": 4,
  "nbformat_minor": 0,
  "metadata": {
    "colab": {
      "name": "Tarea_9.ipynb",
      "provenance": [],
      "collapsed_sections": []
    },
    "kernelspec": {
      "name": "python3",
      "display_name": "Python 3"
    },
    "language_info": {
      "name": "python"
    }
  },
  "cells": [
    {
      "cell_type": "markdown",
      "metadata": {
        "id": "FEoLiSzMpmGC"
      },
      "source": [
        "# **Tarea #9**\n",
        "## Por: Mariana Toro Escobar y Juan Esteban Ospina Holguín"
      ]
    },
    {
      "cell_type": "markdown",
      "metadata": {
        "id": "YKnbC-N6prkE"
      },
      "source": [
        " Figure 5.7 shows a current loop of radius a carrying a current I. The point P\n",
        "is a distance r from the center of the loop with spherical coordinates (r, θ, φ).\n",
        "Jackson (1988) solves for the φ component of the vector potential at point P\n",
        "in terms of elliptic integrals:\n",
        "\n",
        "\\begin{equation}\n",
        "A_{\\phi}(r, \\theta)=\\frac{\\mu_0}{4\\pi}\\frac{4Ia}{\\sqrt{a^2+r^2+2ar\\sin \\theta}}\\left(\\frac{(2-k^2)K(k)-2E(k)}{k^2} \\right)\n",
        "\\end{equation}\n",
        "\n",
        "\n",
        "where \n",
        "\n",
        "\\begin{equation}\n",
        "K(k)=\\int_{0}^{\\pi/2} \\frac{\\mathrm{d\\phi}}{\\sqrt{1-k^2\\sin^2\\phi}}\n",
        "\\end{equation}\n",
        "\n",
        "\n",
        "\\begin{equation}\n",
        "E(k)=\\int_{0}^{\\pi/2} \\mathrm{d\\phi} \\sqrt{1-k^2\\sin^2\\phi}\n",
        "\\end{equation}\n",
        "\n",
        "\n",
        "\\begin{equation}\n",
        "k^2=\\frac{4ar\\sin\\theta}{a^2+r^2+2ar\\sin\\theta}\n",
        "\\end{equation}\n",
        "\n",
        "\n",
        "\n",
        "Here K(k) is a complete elliptic integral of the first kind and E(k) is a complete\n",
        "elliptic integral of the second kind. For a = 1, I = 3, and μ0∕4π = 1, compute\n",
        "and plot\n",
        "\n",
        "a) Aφ(r = 1.1, θ) vs. θ.\n",
        "b) Aφ(r, θ = π∕3) vs. r\n",
        "\n",
        "\n",
        "#Resolver el punto b"
      ]
    },
    {
      "cell_type": "code",
      "metadata": {
        "id": "n9upWeYQpbFD"
      },
      "source": [
        "#Librerías\n",
        "import numpy as np\n",
        "import matplotlib.pylab as plt\n",
        "import sympy as sp\n",
        "from scipy import integrate\n",
        "from scipy import  optimize"
      ],
      "execution_count": null,
      "outputs": []
    },
    {
      "cell_type": "code",
      "metadata": {
        "id": "yeT8mB3fp1Oz"
      },
      "source": [
        "E = lambda k, phi: np.sqrt( 1 - (k * np.sin(phi)) **2 )#Itegrando de la función E(k)\n",
        "K = lambda k, phi: 1./np.sqrt( 1 - (k * np.sin(phi)) **2 ) #Integrando de la función K(k)\n",
        "\n",
        "def k2(r, θ, a):  #Función para k^2\n",
        "  p = 4*a*r*np.sin(θ)\n",
        "  q = a**2+r**2+2*a*r*np.sin(θ) \n",
        "  return p/q\n",
        "\n",
        "def A(r, θ, ϕ, a, I):#Función para el potencial A\n",
        "  \n",
        "  num1 = 4*I*a\n",
        "  den1 = np.sqrt( a**2 + r**2 + 2*a*r*np.sin(θ))\n",
        "  frac1 = num1/den1#Fracción antes del parentesis \n",
        "\n",
        "  k_2 = k2(r, θ, a)\n",
        "  factor1 = (2 - k_2)\n",
        "  factor2 = integrate.trapz(  K(np.sqrt(k_2), ϕ), ϕ) #Integral de K\n",
        "  factor3 = factor1*factor2\n",
        "  factor4 =  integrate.trapz(  E(np.sqrt(k_2), ϕ), ϕ) #Integral de E\n",
        "  A = frac1*(factor3- 2*factor4)/k_2 #Se junta todo para A\n",
        "\n",
        "  return A"
      ],
      "execution_count": null,
      "outputs": []
    },
    {
      "cell_type": "code",
      "metadata": {
        "colab": {
          "base_uri": "https://localhost:8080/",
          "height": 314
        },
        "id": "UzP5kn-1p5gR",
        "outputId": "3fc78ca2-3686-4915-c1c5-b483d02f35ad"
      },
      "source": [
        "θ = np.pi/3 # Valor inicial\n",
        "a = 1 # Radio de la espira\n",
        "I = 3 #Corriente \n",
        "N = 100 #Contador\n",
        "\n",
        "\n",
        "r = np.linspace(0, 1.5, N)#Espacio para r\n",
        "ϕ = np.linspace(0, np.pi/2, N) #Espacio para el angulo ϕ \n",
        "\n",
        "B = np.zeros(len(r))\n",
        "\n",
        "for i, p in enumerate(r):\n",
        "    B[i] = A(p, θ, ϕ, a, I )#Se calcula A para cada\n",
        "plt.plot(r, B,color = 'darkblue')\n",
        "plt.xlabel(\"$r$\")\n",
        "plt.ylabel(\"$Aφ$\")\n",
        "plt.title(\"$Aφ \\ vs \\ r $\")\n",
        "plt.grid();"
      ],
      "execution_count": null,
      "outputs": [
        {
          "output_type": "stream",
          "name": "stderr",
          "text": [
            "/usr/local/lib/python3.7/dist-packages/ipykernel_launcher.py:20: RuntimeWarning: invalid value encountered in double_scalars\n"
          ]
        },
        {
          "output_type": "display_data",
          "data": {
            "image/png": "[encoded data removed]",
            "text/plain": [
              "<Figure size 432x288 with 1 Axes>"
            ]
          },
          "metadata": {
            "needs_background": "light"
          }
        }
      ]
    },
    {
      "cell_type": "code",
      "metadata": {
        "id": "B5JJXbWbqv8A"
      },
      "source": [
        ""
      ],
      "execution_count": null,
      "outputs": []
    }
  ]
}