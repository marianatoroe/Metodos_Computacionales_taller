{
  "nbformat": 4,
  "nbformat_minor": 0,
  "metadata": {
    "colab": {
      "name": "Tarea 5",
      "provenance": [],
      "collapsed_sections": []
    },
    "kernelspec": {
      "name": "python3",
      "display_name": "Python 3"
    },
    "language_info": {
      "name": "python"
    }
  },
  "cells": [
    {
      "cell_type": "markdown",
      "metadata": {
        "id": "8slSCDuWhKTc"
      },
      "source": [
        "# Tarea 5 . Taller métodos computacionales:\n",
        "Juan Esteban Ospina Holguín\n",
        "\n",
        "Mariana Toro Escobar"
      ]
    },
    {
      "cell_type": "code",
      "metadata": {
        "id": "ieIbMQBr66o4"
      },
      "source": [
        "# Librerías \n",
        "import numpy as np\n",
        "from scipy import optimize\n",
        "import matplotlib.pylab as plt"
      ],
      "execution_count": null,
      "outputs": []
    },
    {
      "cell_type": "markdown",
      "metadata": {
        "id": "CXxPyKFA6Vuh"
      },
      "source": [
        "# Taller Resolver los siguientes problemas, por el metodo de la biseccion, Punto fijo, newton, secante, etc.\n",
        "\n",
        "1. *Encontrar* los ceros de $e^{x}-2= \\cos(e^x-2)$"
      ]
    },
    {
      "cell_type": "markdown",
      "metadata": {
        "id": "cqqexkq7616v"
      },
      "source": [
        "\\begin{equation}\n",
        "f(x) = e^{x} - 2 - \\cos(e^x-2) \n",
        "\\end{equation}\n",
        "\n",
        "\\begin{equation}\n",
        "g(x) = e^{x} - 2 \n",
        "\\end{equation}\n",
        "\n",
        "\\begin{equation}\n",
        "h(x) =  \\cos(e^x-2) \n",
        "\\end{equation}\n",
        "\n",
        "\\begin{equation}\n",
        "f(x) = g(x)-h(x) \n",
        "\\end{equation}\n"
      ]
    },
    {
      "cell_type": "code",
      "metadata": {
        "colab": {
          "base_uri": "https://localhost:8080/",
          "height": 313
        },
        "id": "jME2MTEv6HJh",
        "outputId": "ad167288-a561-4e7b-e604-5f3243167299"
      },
      "source": [
        "# Definición de las funciones\n",
        "g = lambda x: np.exp(x)-2\n",
        "h = lambda x: np.cos( np.exp(x)-2)\n",
        "f = lambda x: g(x) - h(x)\n",
        "\n",
        "# Graficación\n",
        "x = np.linspace(-2, 2, 100)\n",
        "plt.plot(x, g(x), color=\"gold\", label=\"g(x)\")\n",
        "plt.plot(x, h(x), color=\"pink\", label=\"h(x)\")\n",
        "plt.plot(x, h(x)-g(x), color=\"purple\", label=\"f(x)\")\n",
        "plt.xlabel(\"x\")\n",
        "plt.ylabel(\"f(x)\")\n",
        "plt.grid()\n",
        "plt.legend()\n",
        "\n",
        "# Ceros de la ecuación por bisección\n",
        "root = optimize.bisect(f, 1, 4)\n",
        "print(\"el cero de la ecuacion es x= \",{root})\n",
        "\n",
        "# Ceros por Newton Rapshod\n",
        "root2 = optimize.newton(f, 3)\n",
        "print(\"el cero de la ecuacion es x= \",{root2})"
      ],
      "execution_count": null,
      "outputs": [
        {
          "output_type": "stream",
          "text": [
            "el cero de la ecuacion es x=  {1.007623971657722}\n",
            "el cero de la ecuacion es x=  {1.0076239716581368}\n"
          ],
          "name": "stdout"
        },
        {
          "output_type": "display_data",
          "data": {
            "image/png": "[encoded data removed]",
            "text/plain": [
              "<Figure size 432x288 with 1 Axes>"
            ]
          },
          "metadata": {
            "tags": [],
            "needs_background": "light"
          }
        }
      ]
    },
    {
      "cell_type": "markdown",
      "metadata": {
        "id": "v5qGo5tm6YJw"
      },
      "source": [
        "2. Una particula parte del reposo sobre un plano inclinado uniforme, cuyo ángulo \n",
        "$\\theta$ cambia con una rapidez constante de : \n",
        "\n",
        "\\begin{equation}\n",
        "\\frac{\\mathrm{d}\\theta}{\\mathrm{d} t} = \\omega < 0\n",
        "\\end{equation}\n",
        "\n",
        "Al final de t segundos, la posición del objeto esta dada por: \n",
        "\n",
        "\n",
        "\\begin{equation}\n",
        "x(t) = -\\frac{g}{2\\omega^2} \\left( \\frac{e^{\\omega t}-e^{-\\omega t}}{2}\\right) -\\sin\\omega t\n",
        "\\end{equation}\n",
        "\n",
        "\n",
        "Suponga que la partícula se desplazo 0.51m en 1s. Encuentre, con una exactitud de $10^{-5}$, la rapidez $\\omega$ con que $\\theta$ cambia. Suponga que $g=9.76m/s$\n",
        "\n",
        "\n",
        "![Plano Inclinado](https://raw.githubusercontent.com/hernansalinas/Metodos_Computacionales_taller/main/sesiones/images/ecuacion_1_variable/Fig0.png)\n"
      ]
    },
    {
      "cell_type": "markdown",
      "metadata": {
        "id": "pDF5IqRp9eSk"
      },
      "source": [
        "\\begin{equation}\n",
        "x(t) = -\\frac{g}{2\\omega^2} \\left( \\frac{e^{\\omega t}-e^{-\\omega t}}{2}\\right) -\\sin\\omega t\n",
        "\\end{equation}\n",
        "\n",
        "\\begin{equation}\n",
        "f(\\omega,t ) = 2\\omega^2(x(t)+\\sin \\omega t )\n",
        "\\end{equation}\n",
        "\n",
        "\n",
        "\\begin{equation}\n",
        "g(\\omega,t ) = -g\\left( \\frac{e^{\\omega t}-e^{-\\omega t}}{2}\\right) \n",
        "\\end{equation}"
      ]
    },
    {
      "cell_type": "code",
      "metadata": {
        "colab": {
          "base_uri": "https://localhost:8080/",
          "height": 330
        },
        "id": "fJ2GVStz6dij",
        "outputId": "2fac1672-c2f8-4368-c0c6-e94e48ec3029"
      },
      "source": [
        "# Definición de las funciones\n",
        "f = lambda omega : 2*omega**2 * (0.51+np.sin(omega))\n",
        "g = lambda omega : -9.76* 0.5*(np.exp(omega)-np.exp(-omega))\n",
        "h = lambda omega : f(omega)-g(omega)\n",
        "\n",
        "# Graficación\n",
        "omega = np.linspace(-np.pi/4, np.pi/4)\n",
        "plt.figure()\n",
        "plt.plot(omega, h(omega), color=\"turquoise\" )\n",
        "plt.xlabel(\"x\")\n",
        "plt.ylabel(\"f(x)\")\n",
        "plt.grid()\n",
        "plt.legend()\n",
        "\n",
        "# Método de la bisección\n",
        "root = optimize.bisect(f, 1, 4)\n",
        "print(\"la rapidez w es = \",{root})\n",
        "\n",
        "# Método de Newton Rapshod\n",
        "root2 = optimize.newton(f, 3)\n",
        "print(\"la rapidez w es= \",{root2})"
      ],
      "execution_count": null,
      "outputs": [
        {
          "output_type": "stream",
          "text": [
            "No handles with labels found to put in legend.\n"
          ],
          "name": "stderr"
        },
        {
          "output_type": "stream",
          "text": [
            "la rapidez w es =  {3.6767774438662855}\n",
            "la rapidez w es=  {3.6767774438653933}\n"
          ],
          "name": "stdout"
        },
        {
          "output_type": "display_data",
          "data": {
            "image/png": "[encoded data removed]",
            "text/plain": [
              "<Figure size 432x288 with 1 Axes>"
            ]
          },
          "metadata": {
            "tags": [],
            "needs_background": "light"
          }
        }
      ]
    },
    {
      "cell_type": "markdown",
      "metadata": {
        "id": "8EwNWk3E6enb"
      },
      "source": [
        "3. Un reservorio de longitud L tiene una seccion transveral en forma de semicirculo con radio r.\n",
        "\n",
        "\\begin{equation}\n",
        "V=L \\left ( \\frac{1}{2}\\pi r^2 -r^2 \\arcsin{\\frac{h}{r}}-h(r^2-h^2) ^{1/2} \\right)\n",
        "\\end{equation}\n",
        "\n",
        "Determinar la profundidad del agua para L=10pies, r=1pies, V=12.4pies\n",
        "\n",
        "\n",
        "![Reservorio](https://raw.githubusercontent.com/hernansalinas/Metodos_Computacionales_taller/main/sesiones/images/ecuacion_1_variable/Fig1.png)"
      ]
    },
    {
      "cell_type": "code",
      "metadata": {
        "colab": {
          "base_uri": "https://localhost:8080/"
        },
        "id": "k5x0H7FBIZ1R",
        "outputId": "4c37c934-a5a8-444c-900e-e3903ebcf084"
      },
      "source": [
        "# Asignación de variables\n",
        "L = 10 #ft\n",
        "r = 1 #ft\n",
        "V = 12.4 #ft\n",
        "\n",
        "# Definición de las funciones \n",
        "g = lambda x: np.pi*(r/2) - V/L - np.arcsin(x/r)\n",
        "h = lambda x: x*np.sqrt(r**2 - x**2)\n",
        "f = lambda x: g(x) - h(x)\n",
        "\n",
        "# Métodos de solución\n",
        "h = optimize.bisect(f,0,r)\n",
        "print(\"La altura h es {} ft\" .format(h))\n",
        "p = r - h\n",
        "print(\"La profundidad del agua es {} ft\" .format(p))"
      ],
      "execution_count": null,
      "outputs": [
        {
          "output_type": "stream",
          "text": [
            "La altura h es 0.1661660346599092 ft\n",
            "La profundidad del agua es 0.8338339653400908 ft\n"
          ],
          "name": "stdout"
        }
      ]
    },
    {
      "cell_type": "markdown",
      "metadata": {
        "id": "8PwNctJW6r-y"
      },
      "source": [
        "|4.Resolver la siguiente situación\n",
        "\n",
        "En el diseño de los vehiculos para todo tipo de terreno,  es necesario tener encuentra fallas cuando se trata de liberar dos tipos de obstáculos. Una es la falla por rozamiento, y ocurre cuando el vehiculo \n",
        "intenta cruzar un obstáculo que hace que su fondo toque el suelo. La otra recibie el nombre de falla por colision de la defensa delantera y ocurre cuando el vehiculo desciende por una zanja y la defensa delantera toca el suelo.\n",
        "\n",
        "\n",
        "\n",
        "La figura muestra las componentes asociados al segundo tipo  de falla. En ella se indeca el ángulo máximo $\\alpha$ que puede alcanzar un vehiculo cuando $\\beta$ es el angulo maximo en que no ocurre la falla \n",
        "por rozamiento y satisface la siguiente ecuación: \n",
        "\n",
        "\n",
        "\\begin{equation}\n",
        "A \\sin(\\alpha) \\cos(\\alpha)+B \\sin^2(\\alpha) - C \\cos(\\alpha) -  E  \\sin(\\alpha)=0\n",
        "\\end{equation}\n",
        "\n",
        "donde; \n",
        "\\begin{equation}\n",
        "A = l \\sin(\\beta)\n",
        "\\end{equation}\n",
        "\n",
        "\\begin{equation}\n",
        "B = l \\cos(\\beta)\n",
        "\\end{equation}\n",
        "\\begin{equation}\n",
        "C = (h + 0.5 D )\\sin(\\beta) - 0.5 D \\tan(\\beta)\n",
        "\\end{equation}\n",
        "\n",
        "\\begin{equation}\n",
        "E = (h + 0.5 D ) \\cos(\\beta) - 0.5 * D\n",
        "\\end{equation}\n",
        "\n",
        "\n",
        "Para $l=89$pulg, $h=49$pul, $D=55$, $\\beta=11.5$ , el angulo se aproximara a 33. Verificar este resultados\n",
        "\n",
        "\n",
        "![fallas_vehiculo](https://raw.githubusercontent.com/hernansalinas/Metodos_Computacionales_taller/main/sesiones/images/ecuacion_1_variable/Fig2.png)\n",
        "\n",
        "Referencias: Numerical Analysis Book by J. Douglas Faires and Richard L. Burden\n"
      ]
    },
    {
      "cell_type": "code",
      "metadata": {
        "colab": {
          "base_uri": "https://localhost:8080/",
          "height": 282
        },
        "id": "uQbFmwXENiYV",
        "outputId": "e12807bf-cd5d-4dce-d19d-52b80e5e8336"
      },
      "source": [
        "#Condiciones iniciales\n",
        "l = 89\n",
        "h = 49\n",
        "D = 55 #Diametro de las ruedas\n",
        "#funciones auxiliares\n",
        "b = 11.5*np.pi/180\n",
        "A = l*np.sin(b)\n",
        "B = l*np.cos(b)\n",
        "C = ((h+0.5*D)*np.sin(b)-0.5*D*np.tan(b))\n",
        "E = ((h+0.5*D)*np.cos(b)-0.5*D)\n",
        "def f(x):#Relación entre los parametros\n",
        "  f = A*np.sin(x)*np.cos(x)+B*(np.sin(x))*(np.sin(x))-C*np.cos(x)-E*np.sin(x)\n",
        "  return f\n",
        "root = optimize.newton(f,0.5)#se obtiene la raiz\n",
        "x = np.linspace(0,2,100)#grilla de evalución\n",
        "plt.plot(x,f(x), label = 'f(x)')#se pinta la función\n",
        "plt.plot(root,f(root),'o')#se pinta la raiz\n",
        "plt.legend()\n",
        "plt.grid(True)\n",
        "print('El valor del ángulo es de x =', round(root,3),' radianes equivalente a', round(root * 180 / np.pi,3),'grados')# se imprimen los resultados"
      ],
      "execution_count": null,
      "outputs": [
        {
          "output_type": "stream",
          "text": [
            "El valor del ángulo es de x = 0.575  radianes equivalente a 32.972 grados\n"
          ],
          "name": "stdout"
        },
        {
          "output_type": "display_data",
          "data": {
            "image/png": "[encoded data removed]",
            "text/plain": [
              "<Figure size 432x288 with 1 Axes>"
            ]
          },
          "metadata": {
            "tags": [],
            "needs_background": "light"
          }
        }
      ]
    }
  ]
}