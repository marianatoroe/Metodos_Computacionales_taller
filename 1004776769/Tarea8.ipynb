{
  "nbformat": 4,
  "nbformat_minor": 0,
  "metadata": {
    "colab": {
      "name": "Tarea8.ipynb",
      "provenance": [],
      "collapsed_sections": []
    },
    "kernelspec": {
      "name": "python3",
      "display_name": "Python 3"
    },
    "language_info": {
      "name": "python"
    }
  },
  "cells": [
    {
      "cell_type": "markdown",
      "metadata": {
        "id": "CsXf5iKIJ_SE"
      },
      "source": [
        "# **Por: Juan Esteban Ospina Holguín y Mariana Toro Escobar.**"
      ]
    },
    {
      "cell_type": "code",
      "metadata": {
        "id": "j5D-8cBd95_o"
      },
      "source": [
        "import sympy as sp \n",
        "import numpy as np\n",
        "import matplotlib.pylab as plt\n",
        "from sympy import init_printing\n",
        "from scipy import  optimize\n",
        "init_printing() \n",
        "from scipy import integrate\n",
        "from scipy.integrate import quad\n",
        "import pandas as pd\n",
        "\n"
      ],
      "execution_count": null,
      "outputs": []
    },
    {
      "cell_type": "markdown",
      "metadata": {
        "id": "LWquVUwcdCEb"
      },
      "source": [
        "# 1. Derivadas.\n",
        "En el metodo Smoothed-particle hydrodynamics (SPH) se emplean diferentes kernel de aproximación para calcular las propiedades de un fluído en cada punto del espacio. Uno de ellos es el Kernel de Lucy detallado a continuación:\n",
        "\n",
        "Lucy's Quartic Kernel\n",
        "$$\n",
        "W(R, h)= \\alpha_D \\left\\{\n",
        "  \\begin{matrix} \\left(1+3R)(1- R\\right)^3 &  R\\leq 1 \\\\ \n",
        "  0 & R>1\n",
        "  \\end{matrix}\n",
        "\\right.\n",
        "$$\n",
        "donde,\n",
        "\n",
        "$$\n",
        "R=\\frac{|(\\vec{r}-\\vec{r}')|}{h}\n",
        "$$\n",
        "y $\\alpha_D$ es la constante de normalización:\n",
        "\n",
        "en 2 dimensiones, viene dada por:$$\n",
        "\\alpha_D = \\frac{5}{\\pi h^2}\n",
        "$$\n",
        "\n",
        "en 3 dimensiones, viene dada por:$$\n",
        "\\alpha_D = \\frac{105}{16\\pi h^3}\n",
        "$$\n",
        "\n",
        "Para el kernel de Lucy en 2D encontrar su derivada a través de los siguientes pasos:\n",
        "\n",
        "Realizar un gráfico del kernel de Lucy.\n",
        "Encontrar la derivada empleanda la libreria simbolica\n",
        "Realizar un grafico de los cálculos encontrados con la libreria simbólica y comparar con la derivada numérica de los datos del punto 1."
      ]
    },
    {
      "cell_type": "code",
      "metadata": {
        "colab": {
          "base_uri": "https://localhost:8080/",
          "height": 37
        },
        "id": "A36aSEBqdGk9",
        "outputId": "d515e8d0-b875-4079-f1b5-a27a96200861"
      },
      "source": [
        "def R(r,h): \n",
        "    \"\"\"Función para evaluar R\n",
        "    input:\n",
        "    r: vector en el espacio\n",
        "    h:constante\n",
        "    \n",
        "    Output\n",
        "    R(r,h)\n",
        "    \"\"\"\n",
        "    return abs(r)/h\n",
        "def w(r,h,α):\n",
        "    \"\"\"Función para evaluar el Kernel\n",
        "    input\n",
        "    \n",
        "    r: vector en el espacio\n",
        "    h:constante\n",
        "    α: constante de normalización\n",
        "    \n",
        "    Output\n",
        "    W(r,h,α)\n",
        "    \"\"\"\n",
        "    return α*(1+3*R(r,h))*((1-R(r,h))**3)\n",
        "\n",
        "def derivada(r,h):\n",
        "    \"\"\"Función para la derivada de W(R,h)\n",
        "    input:\n",
        "    r: vector en el espacio\n",
        "    h:constante\n",
        "    \"\"\"\n",
        "    return 3*((1-R(r,h))**3)-3*((1-R(r,h))**2)*(3*R(r,h)+1)\n",
        "derivada(-0.5,1)"
      ],
      "execution_count": null,
      "outputs": [
        {
          "output_type": "execute_result",
          "data": {
            "image/png": "[encoded data removed]",
            "text/latex": "$\\displaystyle -1.5$",
            "text/plain": [
              "-1.5"
            ]
          },
          "metadata": {},
          "execution_count": 12
        }
      ]
    },
    {
      "cell_type": "markdown",
      "metadata": {
        "id": "ZlF5lwl9dW1k"
      },
      "source": [
        "### Derivada simbolica"
      ]
    },
    {
      "cell_type": "code",
      "metadata": {
        "colab": {
          "base_uri": "https://localhost:8080/",
          "height": 39
        },
        "id": "weqhWQ_rdaLP",
        "outputId": "da3a0e1d-eda0-4ac4-9157-34e85d6e5905"
      },
      "source": [
        "R = sp.Symbol('R')#Variable de la derivada\n",
        "α = sp.Symbol('α')#Constante\n",
        "k = sp.diff(α*(1+3*R)*((1-R)**3), R)#Se hace la derivada simbolica respecto a R\n",
        "k"
      ],
      "execution_count": null,
      "outputs": [
        {
          "output_type": "execute_result",
          "data": {
            "image/png": "[encoded data removed]",
            "text/latex": "$\\displaystyle 3 α \\left(1 - R\\right)^{3} - 3 α \\left(1 - R\\right)^{2} \\left(3 R + 1\\right)$",
            "text/plain": [
              "           3              2          \n",
              "3⋅α⋅(1 - R)  - 3⋅α⋅(1 - R) ⋅(3⋅R + 1)"
            ]
          },
          "metadata": {},
          "execution_count": 16
        }
      ]
    },
    {
      "cell_type": "markdown",
      "metadata": {
        "id": "PIZsAHi4dZ4U"
      },
      "source": [
        "Se aprecia que para $h=1$ la derivada simbolica coincide exactamente para $r>1$. Para $r<1$ la derivada tiene signo contrario, por lo que se hacen dos plots."
      ]
    },
    {
      "cell_type": "code",
      "metadata": {
        "colab": {
          "base_uri": "https://localhost:8080/",
          "height": 296
        },
        "id": "5BmDM98ddrzN",
        "outputId": "43fa5961-34a4-4183-a0af-8ee83934430b"
      },
      "source": [
        "def R(r,h): \n",
        "    \"\"\"Función para evaluar R\n",
        "    input:\n",
        "    r: vector en el espacio\n",
        "    h:constante\n",
        "    \n",
        "    Output\n",
        "    R(r,h)\n",
        "    \"\"\"\n",
        "    return abs(r)/h\n",
        "\n",
        "h = 1 # Constante \n",
        "α = 5/(np.pi * h**2)#Constante de normalización\n",
        "r = np.linspace(-1,1,1000)#Espacio -1<r<1\n",
        "l = len(r)/2\n",
        "r1 = np.linspace(-1,0,100)#Espacio -1<r<1\n",
        "plt.plot(r1,-α*derivada(r1,h),marker =\"o\",label = 'deriv. simbol',markersize=5,color =\"cyan\")#Grafica de la derivada simbolica r<0\n",
        "plt.plot(r1+1,α*derivada(r1+1,h),marker = \"o\",markersize=5,color =\"cyan\")#Grafica de la derivada r>0\n",
        "plt.plot(r,α*w(r,1,α),label = '$W(R,h)$',color = 'darkblue')#Se grafica el Kernel\n",
        "plt.plot(r[0:-1],np.diff(w(r,h,α))/np.diff(r),label = 'deriv. Numer',color = 'black')#Grafica de la derivada numérica del Kernel\n",
        "plt.title('Lucy\\'s Quartic Kernel')\n",
        "plt.xlabel('$r$')\n",
        "plt.ylabel('$W(R, h)$')\n",
        "\n",
        "plt.grid()\n",
        "plt.legend();"
      ],
      "execution_count": null,
      "outputs": [
        {
          "output_type": "display_data",
          "data": {
            "image/png": "[encoded data removed]",
            "text/plain": [
              "<Figure size 432x288 with 1 Axes>"
            ]
          },
          "metadata": {
            "needs_background": "light"
          }
        }
      ]
    },
    {
      "cell_type": "markdown",
      "metadata": {
        "id": "O95pWwV2fKnT"
      },
      "source": [
        "Finalmente, notamos que la derivada pasa por cero cuando el kernel es máximo."
      ]
    },
    {
      "cell_type": "markdown",
      "metadata": {
        "id": "TSZGUUGr8t26"
      },
      "source": [
        "# **2.0 Integración**\n",
        "\n",
        "1. Escribir en código Markdown la deducción para calcular una integral con la regla del trapecio. Ver libro guia.\n",
        "\n",
        "2. Escribir en código Markdown la expresión para calcular una integral con la regla del Simpson.\n",
        "\n",
        "\n",
        "1. Escribir en código Markdown la expresión para calcular una integral con el método de cuadratura.\n",
        "\n",
        "2. Calcular con los metodos 1,2,3 las siguientes integrales\n",
        "\n",
        "$$\n",
        "\\int_0^1 e^{1-x^2}\\, dx\n",
        "$$\n",
        "(1)\n",
        "$$\n",
        "\\int_{-\\infty}^{\\infty} \\frac{1}{1+x^2} \\, dx\n",
        "$$\n",
        "(2)\n",
        "$$\n",
        "\\int_{0}^{\\pi/4} \\int_{\\sin x}^{\\cos x} (2y\\sin x +\\cos^2 x)\\, dxdy\n",
        "$$\n",
        "(3)\n",
        "$$\n",
        "\\int_{-\\infty}^{\\infty} \\frac{1}{1+x^2} \\, dx\n",
        "$$\n",
        "(4)\n",
        "$$\n",
        "\\int_{e}^{2e} \\frac{1}{\\ln x} \\, dx\n",
        "$$\n",
        "(5)\n",
        "\n",
        "garantizando que el error sea menor a $\\varepsilon=1E-5$.\n"
      ]
    },
    {
      "cell_type": "markdown",
      "metadata": {
        "id": "MtzDvWti9T7C"
      },
      "source": [
        "# **Solución**\n"
      ]
    },
    {
      "cell_type": "markdown",
      "metadata": {
        "id": "zpvzC5-etjrB"
      },
      "source": [
        "**1. Deducción markdown de la regla del trapecio:**\n",
        "\n",
        "Esta regla se usa para aproximar $\\int_{a}^{b}f(x) \\ dx$ conociendo los puntos $x_{0}=a, x_{0}=b$, y considerando $h = b-a$.\n",
        "\n",
        "Usando el polinomio de Lagrange dado por la siguiente expresión:\n",
        "\n",
        "$$P_{1}(x) = \\frac{(x-x_{1})}{x_{0}-x_{1}}f(x_{0}) + \\frac{(x-x_{0})}{(x_{1}-x_{0})}f(x_{1})\n",
        "$$\n",
        "\n",
        "Se obtiene que, \n",
        "\n",
        "$$\\int_{a}^{b}f(x) \\ dx = \\int_{x_{0}}^{x_{1}} [\\frac{(x-x_{1})}{x_{0}-x_{1}}f(x_{0}) + \\frac{(x-x_{0})}{(x_{1}-x_{0})}f(x_{1})] \\ dx + \\frac{1}{2} \\int_{x_{0}}^{x_{1}} f^{''}(\\xi (x))(x-x_{0})(x-x_{1}) \\ dx \\ \\ \\ \\ \\ \\ (1)\n",
        "$$\n",
        "\n",
        "Al realizar la multiplicación $(x-x_{0})(x-x_{1})$ se sabe que esta no modifica su signo entre $[x_{0},x_{1}]$, y entonces puede aplicarse el Teorema del valor promedio ponderado para integrales al término del error, logrando lo siguiente para ciertos $\\xi$ en $(x_{0},x_{1})$:\n",
        "\n",
        "$$\\int_{x_{0}}^{x_{1}} f^{''}(\\xi (x))(x-x_{0})(x-x_{1}) \\ dx = f^{''}(\\xi) \\int_{x_{0}}^{x_{1}} (x-x_{0})(x-x_{1}) \\ dx\n",
        "$$\n",
        "$$= f^{''}(\\xi) [\\frac{x^{3}}{3} - \\frac{(x_{1}+x_{0})^{2}}{2} x^{2} + x_{0}x_{1}x ]_0^1\n",
        "$$\n",
        "$$= - \\frac{h^{3}}{6} f^{''}(\\xi)\n",
        "$$\n",
        "\n",
        "Luego, la ecuación (1) implica que,\n",
        " \n",
        "$$\\int_{a}^{b}f(x) \\ dx = [\\frac{(x-x_{1})^{2}}{2(x_{0}-x_{1})}f(x_{0}) + \\frac{(x-x_{0})^{2}}{2(x_{1}-x_{0})}f(x_{1}) ]_{x_{0}}^{x_{1}} - \\frac{h^{3}}{12} f^{''}(\\xi)\n",
        "$$\n",
        "$$= \\frac{(x_{1}-x_{0})}{2} [f(x_{0}) + f(x_{1})] - \\frac{h^{3}}{12} f^{''}(\\xi)\n",
        "$$\n",
        "\n",
        "Y finalmente, tomando $h = x_{1}-x_{0}$ se define la regla Trapezoidal:\n",
        "\n",
        "$$ \\int_{a}^{b}f(x) \\ dx = \\frac{h}{2} [f(x_{0}) + f(x_{1})] - \\frac{h^{3}}{12} f^{''}(\\xi)\n",
        "$$\n",
        "\n",
        "Pues cuando $f$ es una función con valores positivos su integral se aproxima mediante el área de un trapecio."
      ]
    },
    {
      "cell_type": "markdown",
      "metadata": {
        "id": "iq5afgdbFK7-"
      },
      "source": [
        "![Screenshot_2.png](data:image/png;base64,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)"
      ]
    },
    {
      "cell_type": "markdown",
      "metadata": {
        "id": "FVmWUAkjtyjU"
      },
      "source": [
        "**2. Expresión markdown de la regla de Simpson:**\n",
        "\n",
        "Esta regla es resultado de la integración sobre $[a,b]$ del segundo polinomio de Lagrange con nodos de igual espaciado, $x_{0}=a$, $x_{2}=b$, y $x_{1}=a+h$ considerando $h=\\frac{(b-a)}{2}$.\n",
        "\n",
        "La regla de Simpson es:\n",
        "\n",
        "$$ \\int_{x_{0}}^{x_{2}}f(x) \\ dx = \\frac{h}{3} [f(x_{0}) + 4f(x_{1}) + f(x_{2}) ] - \\frac{h^{5}}{90} f^{4}(\\xi)\n",
        "$$\n"
      ]
    },
    {
      "cell_type": "markdown",
      "metadata": {
        "id": "2rddP-hWHszN"
      },
      "source": [
        "![Screenshot_3.png](data:image/png;base64,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)"
      ]
    },
    {
      "cell_type": "markdown",
      "metadata": {
        "id": "UJG_upeUt8yk"
      },
      "source": [
        "**3. Expresión markdown del método de la cuadratura:**\n",
        "\n",
        "Esta regla es útil para la evaluación de integrales de funciones que tienen antiderivadas difíciles de encontrar, o en su defecto, que no tienen. Está asociado a la aproximación de $\\int_{a}^{b}f(x) \\ dx$ a través de $\\sum_{i=1}^n a_{i}f(x_{i})$.\n",
        "\n",
        "Siendo así, se define la cuadratura numérica como:\n",
        "\n",
        "$$ \\int_{a}^{b}f(x) \\ dx \\approx \\sum_{i=1}^n a_{i}f(x_{i})\n",
        "$$\n",
        "\n",
        "Cuyo error está dado por la expresión:\n",
        "\n",
        "$$ E(f) = \\frac{1}{(n+1)!} \\int_{a}^{b} \\prod_{i=1}^n (x-x_{i}) f^{(n+1)} (\\xi(x)) \\ dx\n",
        "$$"
      ]
    },
    {
      "cell_type": "markdown",
      "metadata": {
        "id": "4eEJ1VsztiaU"
      },
      "source": [
        "**4. Calcular las integrales**\n",
        "\n",
        "**Integral (1)**\n",
        "\n",
        "Para esta primera integral se realizarán los métodos paso a paso, se construirán funciones generales para cada uno de ellos, y luego se resolverán también usando las librerías de scipy. Para las siguientes integrales solo se emplearán las librerías.\n",
        "\n",
        "$$\n",
        "\\int_0^1 e^{1-x^2}\\, dx\n",
        "$$\n",
        "\n",
        "1.1 Método del trapecio\n",
        "\n",
        "Método del trapecio manual"
      ]
    },
    {
      "cell_type": "code",
      "metadata": {
        "colab": {
          "base_uri": "https://localhost:8080/",
          "height": 41
        },
        "id": "NpllDwVQ9nA4",
        "outputId": "d3a36256-6416-4119-ed65-e5509ba4c8c3"
      },
      "source": [
        "\"\"\"\n",
        "  Método del trapecio paso a paso\n",
        "\n",
        "\"\"\"\n",
        "\n",
        "# Definir la función f(x)\n",
        "x = sp.symbols(\"x\")\n",
        "f = lambda x: sp.exp(1 - x**2)\n",
        "f(x)"
      ],
      "execution_count": null,
      "outputs": [
        {
          "output_type": "execute_result",
          "data": {
            "image/png": "[encoded data removed]",
            "text/latex": "$\\displaystyle e^{1 - x^{2}}$",
            "text/plain": [
              "      2\n",
              " 1 - x \n",
              "ℯ      "
            ]
          },
          "metadata": {},
          "execution_count": 25
        }
      ]
    },
    {
      "cell_type": "code",
      "metadata": {
        "colab": {
          "base_uri": "https://localhost:8080/",
          "height": 41
        },
        "id": "VMDjgpsPDhgQ",
        "outputId": "fbbcb732-6dcd-421a-ac65-6d5ab92d3db1"
      },
      "source": [
        "# Hallar la segunda derivada\n",
        "f2 = sp.diff(f(x), x, 2)\n",
        "f2"
      ],
      "execution_count": null,
      "outputs": [
        {
          "output_type": "execute_result",
          "data": {
            "image/png": "[encoded data removed]",
            "text/latex": "$\\displaystyle 2 \\left(2 x^{2} - 1\\right) e^{1 - x^{2}}$",
            "text/plain": [
              "                   2\n",
              "  ⎛   2    ⎞  1 - x \n",
              "2⋅⎝2⋅x  - 1⎠⋅ℯ      "
            ]
          },
          "metadata": {},
          "execution_count": 26
        }
      ]
    },
    {
      "cell_type": "code",
      "metadata": {
        "colab": {
          "base_uri": "https://localhost:8080/",
          "height": 370
        },
        "id": "RSlDPuWWEVBA",
        "outputId": "1d5831d1-2eb2-4a9c-bfa1-1c08b0f09c0e"
      },
      "source": [
        "# Hallar el máximo\n",
        "\n",
        "# Convertir a numpy la función f(x) y f''(x)\n",
        "fx = sp.lambdify(x, f(x), 'numpy') \n",
        "fxn2 = sp.lambdify(x, -f2, 'numpy')\n",
        "\n",
        "# Definir el intervalo\n",
        "x_ = np.linspace(0, 1, 100)\n",
        "\n",
        "# Gráfico de f(x) y f''(x)\n",
        "plt.figure()\n",
        "plt.plot(x_, fx(x_), color=\"c\", label=\"f(x)\")\n",
        "plt.plot(x_, fxn2(x_), color=\"m\", label=\"f''(x)\")\n",
        "plt.xlabel(\"x\")\n",
        "plt.ylabel(\"f(x)\")\n",
        "plt.legend()\n",
        "plt.grid()\n",
        "plt.show()\n",
        "\n",
        "# Función para el valor máximo M\n",
        "fp=optimize.fmin_powell( fxn2, 0.1,  ftol=1E-7 )\n",
        "print (\"El máximo M es: 2.42\")"
      ],
      "execution_count": null,
      "outputs": [
        {
          "output_type": "display_data",
          "data": {
            "image/png": "[encoded data removed]",
            "text/plain": [
              "<Figure size 432x288 with 1 Axes>"
            ]
          },
          "metadata": {
            "needs_background": "light"
          }
        },
        {
          "output_type": "stream",
          "name": "stdout",
          "text": [
            "Optimization terminated successfully.\n",
            "         Current function value: -2.426123\n",
            "         Iterations: 2\n",
            "         Function evaluations: 34\n",
            "El máximo M es: 2.42\n"
          ]
        }
      ]
    },
    {
      "cell_type": "code",
      "metadata": {
        "colab": {
          "base_uri": "https://localhost:8080/"
        },
        "id": "s4kiw_wzG2O5",
        "outputId": "e35c555b-4daa-4747-b183-7289bbc63429"
      },
      "source": [
        "# Hallar el tamaño del paso h para obtener la precisión\n",
        "\n",
        "epsilon = 1e-5\n",
        "M = 2.42\n",
        "a = 0\n",
        "b = 1\n",
        "h = np.sqrt((epsilon*12)/((b-a)*M))\n",
        "print(\"El paso h es:\", h)\n",
        "\n",
        "# Hallar el número de términos N para obtener la precisión\n",
        "\n",
        "N = int((b-a)/h)\n",
        "print(\"El número de términos N es:\", N)"
      ],
      "execution_count": null,
      "outputs": [
        {
          "output_type": "stream",
          "name": "stdout",
          "text": [
            "El paso h es: 0.007041787902195304\n",
            "El número de términos N es: 142\n"
          ]
        }
      ]
    },
    {
      "cell_type": "markdown",
      "metadata": {
        "id": "ux5UFfaBRizx"
      },
      "source": [
        "Se considera la siguiente expresión para calcular la integral:\n",
        "\n",
        "\\begin{equation}\n",
        "\\int_{a}^{b}f(x)dx=  \\frac{h}{2}\\left[f(a)+2\\sum_{j=1}^{n-1}f(x_j)+f(b)\\right ]\n",
        "\\end{equation}"
      ]
    },
    {
      "cell_type": "code",
      "metadata": {
        "colab": {
          "base_uri": "https://localhost:8080/"
        },
        "id": "QbCW02t4PHka",
        "outputId": "0f8a8acd-478c-4a9b-88da-24bda5b538c8"
      },
      "source": [
        "# Sustituyendo los términos de la eq. del método del trapecio\n",
        "\n",
        "T1 =  (fx(a))\n",
        "T3 =  (fx(b))\n",
        "\n",
        "# Definir los puntos extremos\n",
        "x = np.linspace(a, b, N+1)\n",
        "x_interior = x[1:-1]\n",
        "T2 =  np.sum(fx(x_interior))\n",
        "\n",
        "trap = 0.5*h*(T1 + 2*T2 + T3)\n",
        "\n",
        "print(\"El valor de la integral haciendo manualmente el método del trapecio es:\", trap)"
      ],
      "execution_count": null,
      "outputs": [
        {
          "output_type": "stream",
          "name": "stdout",
          "text": [
            "El valor de la integral haciendo manualmente el método del trapecio es: 2.029935979754362\n"
          ]
        }
      ]
    },
    {
      "cell_type": "code",
      "metadata": {
        "colab": {
          "base_uri": "https://localhost:8080/"
        },
        "id": "8PCIw73nXYgs",
        "outputId": "c94cd281-6aa4-4eb8-ce93-b110cab170d3"
      },
      "source": [
        "\"\"\"\n",
        "  Método del trapecio generalizado en funciones\n",
        "\n",
        "\"\"\"\n",
        "# Función para hallar el máximo\n",
        "def max(f):\n",
        "  x = sp.symbols(\"x\")\n",
        "  f2 = sp.diff(f(x), x, 2) #Segunda derivada\n",
        "  fx = sp.lambdify(x, f(x), 'numpy')  #Convertir a numpy la función f(x)\n",
        "  fxn2 = sp.lambdify(x, -f2, 'numpy') #Convertir a numpy la función f''(x)\n",
        "  fp=optimize.fmin_powell( fxn2, 0.1,  ftol=1E-7 )\n",
        "\n",
        "  return print(\"es:\", fp)\n",
        "\n",
        "\n",
        "# Función para hallar el resultado de la integral\n",
        "def m_trapecio(f, a, b, epsilon, M):  \n",
        "  x = sp.symbols(\"x\") \n",
        "  f2 = sp.diff(f(x), x, 2) #Segunda derivada\n",
        "  fx = sp.lambdify(x, f(x), 'numpy')  #Convertir a numpy la función f(x)\n",
        "  fxn2 = sp.lambdify(x, -f2, 'numpy') #Convertir a numpy la función f''(x)\n",
        "  x_ = np.linspace(a, b, 100) #Definir intervalo\n",
        "\n",
        "  #plt.figure() #Graficar la función\n",
        "  #plt.plot(x_, fx(x_), color=\"c\", label=\"f(x)\")\n",
        "  #plt.plot(x_, fxn2(x_), color=\"m\", label=\"f''(x)\")\n",
        "  #plt.xlabel(\"x\")\n",
        "  #plt.ylabel(\"f(x)\")\n",
        "  #plt.legend()\n",
        "  #plt.grid()\n",
        "  #plt.show()\n",
        "  \n",
        "  h = np.sqrt((epsilon*12)/((b-a)*M)) #Hallar el paso h\n",
        "  N = int((b-a)/h) #Hallar el número de términos N\n",
        "\n",
        "  T1 =  (fx(a)) #Reemplazar en la expresión\n",
        "  T3 =  (fx(b))\n",
        "  x = np.linspace(a, b, N+1)\n",
        "  x_interior = x[1:-1]\n",
        "  T2 =  np.sum(fx(x_interior))\n",
        "  trap = 0.5*h*(T1 + 2*T2 + T3)\n",
        "\n",
        "  return print(\"El valor de la integral haciendo la generalización del método del trapecio es:\", trap)\n",
        "\n",
        "\n",
        "# Usando las funciones en el problema\n",
        "\n",
        "f = lambda x: sp.exp(1 - x**2) \n",
        "a = 0\n",
        "b = 1\n",
        "epsilon = 1e-5\n",
        "\n",
        "max(f)\n",
        "print (\"El máximo M es:\", 2.42)\n",
        "M = 2.42\n",
        "\n",
        "m_trapecio(f, a, b, epsilon, M)"
      ],
      "execution_count": null,
      "outputs": [
        {
          "output_type": "stream",
          "name": "stdout",
          "text": [
            "Optimization terminated successfully.\n",
            "         Current function value: -2.426123\n",
            "         Iterations: 2\n",
            "         Function evaluations: 34\n",
            "es: 1.2247448715045794\n",
            "El máximo M es: 2.42\n",
            "El valor de la integral haciendo la generalización del método del trapecio es: 2.029935979754362\n"
          ]
        }
      ]
    },
    {
      "cell_type": "markdown",
      "metadata": {
        "id": "6YixJuMERZLv"
      },
      "source": [
        "Método del trapecio de integrate"
      ]
    },
    {
      "cell_type": "code",
      "metadata": {
        "colab": {
          "base_uri": "https://localhost:8080/"
        },
        "id": "ZbH6SiHpDJXX",
        "outputId": "94ab4fbb-b8fc-4acd-be15-8efbb19bb8a0"
      },
      "source": [
        "# Usando el método del trapecio de integrate\n",
        "\n",
        "t = integrate.trapz( fx(x_), x_, h )\n",
        "print(\"El valor de la integral usando la librería integrate es:\", t)"
      ],
      "execution_count": null,
      "outputs": [
        {
          "output_type": "stream",
          "name": "stdout",
          "text": [
            "El valor de la integral usando la librería integrate es: 2.0300614641533605\n"
          ]
        }
      ]
    },
    {
      "cell_type": "markdown",
      "metadata": {
        "id": "jZaZ97djT2H7"
      },
      "source": [
        "1.2 Método de Simpson\n",
        "\n",
        "Método de Simpson manual"
      ]
    },
    {
      "cell_type": "code",
      "metadata": {
        "id": "VA9omyOgE3OS"
      },
      "source": [
        "\"\"\"\n",
        "  Método de Simpson paso a paso\n",
        "\n",
        "\"\"\"\n",
        "\n",
        "def simpson(f, a, b, N):\n",
        "    \"\"\"\n",
        "    Aproxima la integral de $f$ en $[a,b]$ mediante la fórmula compuesta \n",
        "    de Simpson con N subintervalos\n",
        "    \"\"\"\n",
        "    n_nodos = 2*N+1 # (N+1 extremos de subintervalos) + (N puntos medios)\n",
        "    x = np.linspace(a, b, n_nodos)\n",
        "\n",
        "    x_impar = x[1: :2] # Nodos con coordenada impar (ptos medios)\n",
        "    x_par = x[2:n_nodos-1:2] # Nodos con coordenada par (salvo el primero y el último)\n",
        "\n",
        "    h = (b-a)/(2*N) # Distancia entre dos nodos de integración\n",
        "    cuad = h/3*(f(a) + 2*sum(f(x_par)) + 4*sum(f(x_impar)) + f(b)) # F. comp. de Simpson\n",
        "    return cuad  "
      ],
      "execution_count": null,
      "outputs": []
    },
    {
      "cell_type": "code",
      "metadata": {
        "colab": {
          "base_uri": "https://localhost:8080/",
          "height": 41
        },
        "id": "fpX1h19yGIci",
        "outputId": "6260aeed-7f9c-4dc0-8aaa-42aad59bd826"
      },
      "source": [
        "# Hallar el intervalo N\n",
        "\n",
        "# Hallar la cuarta derivada\n",
        "x = sp.symbols(\"x\")\n",
        "f4 = sp.diff(f(x), x, 4)\n",
        "f4"
      ],
      "execution_count": null,
      "outputs": [
        {
          "output_type": "execute_result",
          "data": {
            "image/png": "[encoded data removed]",
            "text/latex": "$\\displaystyle 4 \\left(4 x^{4} - 12 x^{2} + 3\\right) e^{1 - x^{2}}$",
            "text/plain": [
              "                           2\n",
              "  ⎛   4       2    ⎞  1 - x \n",
              "4⋅⎝4⋅x  - 12⋅x  + 3⎠⋅ℯ      "
            ]
          },
          "metadata": {},
          "execution_count": 33
        }
      ]
    },
    {
      "cell_type": "code",
      "metadata": {
        "colab": {
          "base_uri": "https://localhost:8080/",
          "height": 279
        },
        "id": "k-Od5Sy0HRls",
        "outputId": "8b97e411-2cc6-4df7-9179-2b3300ba86a5"
      },
      "source": [
        "# Convertir a numpy la función f^iv(x)\n",
        "fxn4 = sp.lambdify(x, -f4, 'numpy')\n",
        "\n",
        "# Gráfico de f(x) y f^iv(x)\n",
        "plt.figure()\n",
        "plt.plot(x_, fx(x_), color=\"c\", label=\"f(x)\")\n",
        "plt.plot(x_, fxn4(x_), color=\"gold\", label=\"f^iv(x)\")\n",
        "plt.xlabel(\"x\")\n",
        "plt.ylabel(\"f(x)\")\n",
        "plt.legend()\n",
        "plt.grid()\n",
        "plt.show()"
      ],
      "execution_count": null,
      "outputs": [
        {
          "output_type": "display_data",
          "data": {
            "image/png": "[encoded data removed]",
            "text/plain": [
              "<Figure size 432x288 with 1 Axes>"
            ]
          },
          "metadata": {
            "needs_background": "light"
          }
        }
      ]
    },
    {
      "cell_type": "markdown",
      "metadata": {
        "id": "69paVQXRJWoy"
      },
      "source": [
        "Se considera la siguiente expresión para calcular el término N de la integral:\n",
        "$$\n",
        "N^4 = \\frac{(b − a)^5}{180(2)^4\\epsilon} \\mathrm{Max} ||f^{(4)}(\\xi)||\n",
        "$$"
      ]
    },
    {
      "cell_type": "code",
      "metadata": {
        "colab": {
          "base_uri": "https://localhost:8080/"
        },
        "id": "asQUp-2rH__b",
        "outputId": "192a965b-fb16-4552-f516-4a74fd996f74"
      },
      "source": [
        "# Número de términos N\n",
        "N1 = int(((b-a)**5*M/(epsilon*180*2**4))**(1./4))\n",
        "print(\"El número de términos N es:\", N1)\n",
        "\n",
        "# Reemplazar en la función manual\n",
        "simp = simpson(fx, a, b, N1)\n",
        "print(\"El valor de la integral haciendo manualmente el método del Simpson es:\", simp)"
      ],
      "execution_count": null,
      "outputs": [
        {
          "output_type": "stream",
          "name": "stdout",
          "text": [
            "El número de términos N es: 3\n",
            "El valor de la integral haciendo manualmente el método del Simpson es: 2.030095482126441\n"
          ]
        }
      ]
    },
    {
      "cell_type": "code",
      "metadata": {
        "colab": {
          "base_uri": "https://localhost:8080/"
        },
        "id": "mCTsoAlGdwut",
        "outputId": "9b56c42b-e242-47d6-9ea7-31760b08370e"
      },
      "source": [
        "\"\"\"\n",
        "  Método de Simpson generalizado en funciones\n",
        "\n",
        "\"\"\"\n",
        "\n",
        "# Función para hallar el valor de N\n",
        "def val_N(f):\n",
        "  x = sp.symbols(\"x\") \n",
        "  f4 = sp.diff(f(x), x, 2) #Cuarta derivada\n",
        "  fx = sp.lambdify(x, f(x), 'numpy')  #Convertir a numpy la función f(x)\n",
        "  fxn4 = sp.lambdify(x, -f4, 'numpy') #Convertir a numpy la función f''(x)\n",
        " \n",
        "  x_ = np.linspace(a, b, 100) #Definir intervalo\n",
        "  #plt.figure()\n",
        "  #plt.plot(x_, fx(x_), color=\"c\", label=\"f(x)\")\n",
        "  #plt.plot(x_, fxn4(x_), color=\"gold\", label=\"f^iv(x)\")\n",
        "  #plt.xlabel(\"x\")\n",
        "  #plt.ylabel(\"f(x)\")\n",
        "  #plt.legend()\n",
        "  #plt.grid()\n",
        "  #plt.show()\n",
        "\n",
        "  N = int(((b-a)**5*M/(epsilon*180*2**4))**(1./4))\n",
        "  print(\"El número de términos N es:\", N)\n",
        "\n",
        "# Función para hallar el resultado de la integral\n",
        "def simpson(f, a, b, N):\n",
        "    \"\"\"\n",
        "    Aproxima la integral de $f$ en $[a,b]$ mediante la fórmula compuesta \n",
        "    de Simpson con N subintervalos\n",
        "    \"\"\"\n",
        "    n_nodos = 2*N+1 # (N+1 extremos de subintervalos) + (N puntos medios)\n",
        "    x = np.linspace(a, b, n_nodos)\n",
        "\n",
        "    x_impar = x[1: :2] # Nodos con coordenada impar (ptos medios)\n",
        "    x_par = x[2:n_nodos-1:2] # Nodos con coordenada par (salvo el primero y el último)\n",
        "\n",
        "    h = (b-a)/(2*N) # Distancia entre dos nodos de integración\n",
        "    cuad = h/3*(f(a) + 2*sum(f(x_par)) + 4*sum(f(x_impar)) + f(b)) # F. comp. de Simpson\n",
        "    return cuad  \n",
        "\n",
        "# Usando las funciones en el problema\n",
        "\n",
        "f = lambda x: sp.exp(1 - x**2) \n",
        "a = 0\n",
        "b = 1\n",
        "epsilon = 1e-5\n",
        "\n",
        "val_N(f)\n",
        "N = 3\n",
        "\n",
        "simp = simpson(fx, a, b, N)\n",
        "print(\"El valor de la integral haciendo la generalización del método del Simpson es:\", simp)"
      ],
      "execution_count": null,
      "outputs": [
        {
          "output_type": "stream",
          "name": "stdout",
          "text": [
            "El número de términos N es: 3\n",
            "El valor de la integral haciendo la generalización del método del Simpson es: 2.030095482126441\n"
          ]
        }
      ]
    },
    {
      "cell_type": "markdown",
      "metadata": {
        "id": "vv7VOamJIyda"
      },
      "source": [
        "Método de Simpson de integrate"
      ]
    },
    {
      "cell_type": "code",
      "metadata": {
        "colab": {
          "base_uri": "https://localhost:8080/"
        },
        "id": "RiwpitVpI0-8",
        "outputId": "0cd2e722-dda3-4c08-f566-ada66541a077"
      },
      "source": [
        "# Usando el método de Simpson de integrate\n",
        "\n",
        "s = integrate.simps(fx(x_) ,x_, dx=0.0001)\n",
        "print(\"El valor de la integral usando la librería integrate es:\", s)"
      ],
      "execution_count": null,
      "outputs": [
        {
          "output_type": "stream",
          "name": "stdout",
          "text": [
            "El valor de la integral usando la librería integrate es: 2.0300783210739026\n"
          ]
        }
      ]
    },
    {
      "cell_type": "markdown",
      "metadata": {
        "id": "HIg0rRD3Jd2y"
      },
      "source": [
        "1.3 Método de cuadratura"
      ]
    },
    {
      "cell_type": "code",
      "metadata": {
        "colab": {
          "base_uri": "https://localhost:8080/"
        },
        "id": "tJNhb6IrJjBO",
        "outputId": "800d5043-9e92-472f-f9f9-827633038932"
      },
      "source": [
        "# Usando el método de cuadratura de integrate\n",
        "\n",
        "q = quad(fx, a, b)[0]\n",
        "print(\"El valor de la integral usando la librería integrate es:\", q)"
      ],
      "execution_count": null,
      "outputs": [
        {
          "output_type": "stream",
          "name": "stdout",
          "text": [
            "El valor de la integral usando la librería integrate es: 2.030078469278705\n"
          ]
        }
      ]
    },
    {
      "cell_type": "code",
      "metadata": {
        "colab": {
          "base_uri": "https://localhost:8080/",
          "height": 279
        },
        "id": "ZaD-7Ddpruo7",
        "outputId": "1adea600-4b13-4ad1-8846-2c7c0d81f5d0"
      },
      "source": [
        "# Gráfica de la función\n",
        "f2 = sp.diff(f(x), x, 2) #Segunda derivada (Usada en la regla del trapecio)\n",
        "f4 = sp.diff(f(x), x, 4) #Cuarta derivada (Usada en la regla de Simpson)\n",
        "fxn2 = sp.lambdify(x, -f2, 'numpy') \n",
        "fxn4 = sp.lambdify(x, -f4, 'numpy')\n",
        "\n",
        "plt.figure()\n",
        "plt.plot(x_, fx(x_), color=\"c\", label=\"f(x)\")\n",
        "plt.plot(x_, fxn2(x_), color=\"m\", label=\"f''(x)\")\n",
        "plt.plot(x_, fxn4(x_), color=\"gold\", label=\"f^iv(x)\")\n",
        "plt.xlabel(\"x\")\n",
        "plt.ylabel(\"f(x)\")\n",
        "plt.legend()\n",
        "plt.grid()\n",
        "plt.show()"
      ],
      "execution_count": null,
      "outputs": [
        {
          "output_type": "display_data",
          "data": {
            "image/png": "[encoded data removed]",
            "text/plain": [
              "<Figure size 432x288 with 1 Axes>"
            ]
          },
          "metadata": {
            "needs_background": "light"
          }
        }
      ]
    },
    {
      "cell_type": "markdown",
      "metadata": {
        "id": "hKfqtJ72gJky"
      },
      "source": [
        "**Integral (2)**\n",
        "\n",
        "$$\n",
        "\\int_{-\\infty}^{\\infty} \\frac{1}{1+x^2} \\, dx\n",
        "$$\n",
        "\n",
        "Considerando que es una integral con límites infinitos, se realiza la sustitución $x = tan(u)$, luego $dx = sec^{2}(u) \\ du$ y $u = tan^{-1}(x)$.\n",
        "\n",
        "Así, cuando $x \\rightarrow \\infty$, $u = \\frac{\\pi}{2}$\n",
        "\n",
        "Y cuando $x \\rightarrow - \\infty$, $u = - \\frac{\\pi}{2}$\n",
        "\n",
        "De modo que la integral puede reescribirse como\n",
        "\n",
        "$$\n",
        "\\int_{- \\frac{\\pi}{2}}^{\\frac{\\pi}{2}} \\frac{sec^{2}(u)}{1+tan^2(u)} \\, du\n",
        "$$\n",
        "$$\n",
        "= \\int_{- \\frac{\\pi}{2}}^{\\frac{\\pi}{2}} \\, du \n",
        "$$\n",
        "\n",
        "\n",
        "\n",
        "\n",
        "2.1 Método del trapecio"
      ]
    },
    {
      "cell_type": "code",
      "metadata": {
        "colab": {
          "base_uri": "https://localhost:8080/"
        },
        "id": "MvJ5MZyrf69T",
        "outputId": "dc6df12e-b5ba-45d2-ba6c-9083c1da9378"
      },
      "source": [
        "# Usando el método del trapecio de integrate\n",
        "\n",
        "# Definir la función\n",
        "f = lambda x: 1\n",
        "\n",
        "# Vectorizar la función ya que f de integrate.trapz debe ser un arreglo\n",
        "fx = np.vectorize(f) \n",
        "\n",
        "# Definir el intervalo\n",
        "x_ = np.linspace(-np.pi/2, np.pi/2, 100)\n",
        "\n",
        "t = integrate.trapz(fx(x_), x_ ,dx=1e-5)\n",
        "print(\"El valor de la integral usando la librería integrate es:\", t)"
      ],
      "execution_count": null,
      "outputs": [
        {
          "output_type": "stream",
          "name": "stdout",
          "text": [
            "El valor de la integral usando la librería integrate es: 3.141592653589793\n"
          ]
        }
      ]
    },
    {
      "cell_type": "markdown",
      "metadata": {
        "id": "euXnwdl5bhuf"
      },
      "source": [
        "2.2 Método de simpson"
      ]
    },
    {
      "cell_type": "code",
      "metadata": {
        "colab": {
          "base_uri": "https://localhost:8080/"
        },
        "id": "bOqe7u05g93r",
        "outputId": "edf2cf4f-3a04-4a05-e69d-e06bf237fdf1"
      },
      "source": [
        "# Usando el método de Simpson de integrate\n",
        "\n",
        "s = integrate.simps(fx(x_) , x_ , dx=1e-5)\n",
        "print(\"El valor de la integral usando la librería integrate es:\", s)"
      ],
      "execution_count": null,
      "outputs": [
        {
          "output_type": "stream",
          "name": "stdout",
          "text": [
            "El valor de la integral usando la librería integrate es: 3.141592653589793\n"
          ]
        }
      ]
    },
    {
      "cell_type": "markdown",
      "metadata": {
        "id": "F-r0RiZOcDeF"
      },
      "source": [
        "2.3 Método de cuadratura"
      ]
    },
    {
      "cell_type": "code",
      "metadata": {
        "id": "jFzQ2zTuiTys",
        "colab": {
          "base_uri": "https://localhost:8080/"
        },
        "outputId": "61dd8e30-2f95-4152-b3f4-9c96a4ca6e8c"
      },
      "source": [
        "# Usando el método de cuadratura de integrate\n",
        "\n",
        "q = quad(fx, -np.pi/2, np.pi/2)[0]\n",
        "print(\"El valor de la integral usando la librería integrate es:\", q)"
      ],
      "execution_count": null,
      "outputs": [
        {
          "output_type": "stream",
          "name": "stdout",
          "text": [
            "El valor de la integral usando la librería integrate es: 3.141592653589793\n"
          ]
        }
      ]
    },
    {
      "cell_type": "code",
      "metadata": {
        "colab": {
          "base_uri": "https://localhost:8080/",
          "height": 279
        },
        "id": "yHaiH3jgochs",
        "outputId": "8e14b208-33a7-444a-d271-e95c581dc301"
      },
      "source": [
        "# Gráfica de la función\n",
        "plt.figure()\n",
        "plt.plot(x_, fx(x_), color=\"c\", label=\"f(x)\")\n",
        "#plt.plot(x_, fxn2(x_), color=\"m\", label=\"f''(x)\")\n",
        "#plt.plot(x_, fxn4(x_), color=\"gold\", label=\"f^iv(x)\")\n",
        "plt.xlabel(\"x\")\n",
        "plt.ylabel(\"f(x)\")\n",
        "plt.legend()\n",
        "plt.grid()\n",
        "plt.show()"
      ],
      "execution_count": null,
      "outputs": [
        {
          "output_type": "display_data",
          "data": {
            "image/png": "[encoded data removed]",
            "text/plain": [
              "<Figure size 432x288 with 1 Axes>"
            ]
          },
          "metadata": {
            "needs_background": "light"
          }
        }
      ]
    },
    {
      "cell_type": "markdown",
      "metadata": {
        "id": "unJ_CwShf031"
      },
      "source": [
        "**Integral (3)**\n",
        "\n",
        "$$\n",
        "\\int_{0}^{\\pi/4} \\int_{\\sin x}^{\\cos x} (2y\\sin x +\\cos^2 x)\\, dxdy\n",
        "$$\n",
        "\n",
        "Se considera la solución de la primera integral,\n",
        "$$\n",
        "\\int_{\\sin x}^{\\cos x} (2y\\sin x +\\cos^2 x)\\, dy = cos^3(x)-cos^2(x)sin(x)+sin(x)cos(2x)\n",
        "$$\n",
        "\n",
        "Luego, la integral a resolver es:\n",
        "$$\n",
        "\\int_{0}^{\\pi/4}  cos^3(x)-cos^2(x)sin(x)+sin(x)cos(2x) \\, dx\n",
        "$$\n",
        "\n",
        "3.1 Método del trapecio"
      ]
    },
    {
      "cell_type": "code",
      "metadata": {
        "id": "VWQrbmTgmcMG",
        "colab": {
          "base_uri": "https://localhost:8080/"
        },
        "outputId": "661ad1ad-d88c-46db-b343-169569a3167e"
      },
      "source": [
        "# Usando el método del trapecio de integrate\n",
        "\n",
        "# Definir la función\n",
        "f = lambda x: (sp.cos(x))**3-(sp.sin(x))*(sp.cos(x))**2*(sp.sin(x)*sp.cos(2*x))\n",
        "x = sp.symbols(\"x\") \n",
        "\n",
        "# Convertir la función a numpy\n",
        "fx = sp.lambdify(x, f(x), 'numpy') \n",
        " \n",
        "# Definir el intervalo\n",
        "x_ = np.linspace(0, np.pi/4, 100)\n",
        "\n",
        "t = integrate.trapz(fx(x_), x_ ,dx=1e-5)\n",
        "print(\"El valor de la integral usando la librería integrate es:\", t)"
      ],
      "execution_count": null,
      "outputs": [
        {
          "output_type": "stream",
          "name": "stdout",
          "text": [
            "El valor de la integral usando la librería integrate es: 0.5475860438249496\n"
          ]
        }
      ]
    },
    {
      "cell_type": "markdown",
      "metadata": {
        "id": "ovwGqU590X3W"
      },
      "source": [
        "3.2 Método de Simpson"
      ]
    },
    {
      "cell_type": "code",
      "metadata": {
        "colab": {
          "base_uri": "https://localhost:8080/"
        },
        "id": "MlUoCFvp2RnQ",
        "outputId": "08ab7100-730a-41a9-9d85-3a490e6810b7"
      },
      "source": [
        "# Usando el método de Simpson de integrate\n",
        "\n",
        "s = integrate.simps(fx(x_) , x_ , dx=1e-5)\n",
        "print(\"El valor de la integral usando la librería integrate es:\", s)"
      ],
      "execution_count": null,
      "outputs": [
        {
          "output_type": "stream",
          "name": "stdout",
          "text": [
            "El valor de la integral usando la librería integrate es: 0.5475889029027119\n"
          ]
        }
      ]
    },
    {
      "cell_type": "markdown",
      "metadata": {
        "id": "VMI66fTH0bgJ"
      },
      "source": [
        "3.3 Método de la cuadratura"
      ]
    },
    {
      "cell_type": "code",
      "metadata": {
        "colab": {
          "base_uri": "https://localhost:8080/"
        },
        "id": "2Xt0k6qY2jXL",
        "outputId": "ddf5afec-8f92-46f4-eaa4-6813679a01c0"
      },
      "source": [
        "# Método de la cuadratura de integrate\n",
        "\n",
        "q = quad(fx, 0, np.pi/4)[0]\n",
        "print(\"El valor de la integral usando la librería integrate es:\", q)"
      ],
      "execution_count": null,
      "outputs": [
        {
          "output_type": "stream",
          "name": "stdout",
          "text": [
            "El valor de la integral usando la librería integrate es: 0.5475889843221229\n"
          ]
        }
      ]
    },
    {
      "cell_type": "code",
      "metadata": {
        "colab": {
          "base_uri": "https://localhost:8080/",
          "height": 279
        },
        "id": "BkbqTicD2u1x",
        "outputId": "e2b7e439-df34-4d1a-c836-8969f7dc6aef"
      },
      "source": [
        "# Gráfica de la función\n",
        "f2 = sp.diff(f(x), x, 2) #Segunda derivada (Usada en la regla del trapecio)\n",
        "f4 = sp.diff(f(x), x, 4) #Cuarta derivada (Usada en la regla de Simpson)\n",
        "fxn2 = sp.lambdify(x, -f2, 'numpy') \n",
        "fxn4 = sp.lambdify(x, -f4, 'numpy')\n",
        "\n",
        "plt.figure()\n",
        "plt.plot(x_, fx(x_), color=\"c\", label=\"f(x)\")\n",
        "plt.plot(x_, fxn2(x_), color=\"m\", label=\"f''(x)\")\n",
        "plt.plot(x_, fxn4(x_), color=\"gold\", label=\"f^iv(x)\")\n",
        "plt.xlabel(\"x\")\n",
        "plt.ylabel(\"f(x)\")\n",
        "plt.legend()\n",
        "plt.grid()\n",
        "plt.show()"
      ],
      "execution_count": null,
      "outputs": [
        {
          "output_type": "display_data",
          "data": {
            "image/png": "[encoded data removed]",
            "text/plain": [
              "<Figure size 432x288 with 1 Axes>"
            ]
          },
          "metadata": {
            "needs_background": "light"
          }
        }
      ]
    },
    {
      "cell_type": "markdown",
      "metadata": {
        "id": "frGnkDQQgebd"
      },
      "source": [
        "**Integral (4)** Es la misma del punto 2.\n",
        "\n",
        "\n",
        "**Integral (5)**\n",
        "\n",
        "$$\n",
        "\\int_{e}^{2e} \\frac{1}{\\ln x} \\, dx\n",
        "$$\n",
        "\n",
        "5.1 Método del trapecio"
      ]
    },
    {
      "cell_type": "code",
      "metadata": {
        "colab": {
          "base_uri": "https://localhost:8080/"
        },
        "id": "qFu-bbraib-7",
        "outputId": "51b5270e-b43f-48ff-d767-a3090975f5ed"
      },
      "source": [
        "# Usando el método del trapecio de integrate\n",
        "\n",
        "# Definir la función\n",
        "f = lambda x: 1/sp.log(x)\n",
        "x = sp.symbols(\"x\") \n",
        "\n",
        "# Convertir la función a numpy\n",
        "fx = sp.lambdify(x, f(x), 'numpy') \n",
        " \n",
        "# Definir el intervalo\n",
        "x_ = np.linspace(np.e, 2*(np.e), 100)\n",
        "\n",
        "t = integrate.trapz(fx(x_), x_ ,dx=1e-5)\n",
        "print(\"El valor de la integral usando la librería integrate es:\", t)"
      ],
      "execution_count": null,
      "outputs": [
        {
          "output_type": "stream",
          "name": "stdout",
          "text": [
            "El valor de la integral usando la librería integrate es: 2.003829642271284\n"
          ]
        }
      ]
    },
    {
      "cell_type": "markdown",
      "metadata": {
        "id": "pC4uLEZTjnTq"
      },
      "source": [
        "5.2 Método de Simpson"
      ]
    },
    {
      "cell_type": "code",
      "metadata": {
        "colab": {
          "base_uri": "https://localhost:8080/"
        },
        "id": "J48kbLiljphC",
        "outputId": "65c8c86a-acd8-4cf4-a69c-98ececa421b5"
      },
      "source": [
        "# Usando el método de Simpson de integrate\n",
        "\n",
        "s = integrate.simps(fx(x_) , x_ , dx=1e-5)\n",
        "print(\"El valor de la integral usando la librería integrate es:\", s)"
      ],
      "execution_count": null,
      "outputs": [
        {
          "output_type": "stream",
          "name": "stdout",
          "text": [
            "El valor de la integral usando la librería integrate es: 2.003810928192265\n"
          ]
        }
      ]
    },
    {
      "cell_type": "markdown",
      "metadata": {
        "id": "iP8WzaerjqMP"
      },
      "source": [
        "5.3 Método de cuadratura"
      ]
    },
    {
      "cell_type": "code",
      "metadata": {
        "colab": {
          "base_uri": "https://localhost:8080/"
        },
        "id": "BiGeG8vFok_a",
        "outputId": "ee59a242-99dd-4536-ae44-745106fdc053"
      },
      "source": [
        "# Método de la cuadratura de integrate\n",
        "\n",
        "q = quad(fx, np.e, 2*(np.e))[0]\n",
        "print(\"El valor de la integral usando la librería integrate es:\", q)"
      ],
      "execution_count": null,
      "outputs": [
        {
          "output_type": "stream",
          "name": "stdout",
          "text": [
            "El valor de la integral usando la librería integrate es: 2.0038105616240243\n"
          ]
        }
      ]
    },
    {
      "cell_type": "code",
      "metadata": {
        "colab": {
          "base_uri": "https://localhost:8080/",
          "height": 279
        },
        "id": "lAUyypgHpRQb",
        "outputId": "9cb67c5c-28cf-45bc-c4bc-73a2e61910d7"
      },
      "source": [
        "# Gráfica de la función\n",
        "f2 = sp.diff(f(x), x, 2) #Segunda derivada (Usada en la regla del trapecio)\n",
        "f4 = sp.diff(f(x), x, 4) #Cuarta derivada (Usada en la regla de Simpson)\n",
        "fxn2 = sp.lambdify(x, -f2, 'numpy') \n",
        "fxn4 = sp.lambdify(x, -f4, 'numpy')\n",
        "\n",
        "plt.figure()\n",
        "plt.plot(x_, fx(x_), color=\"c\", label=\"f(x)\")\n",
        "plt.plot(x_, fxn2(x_), color=\"m\", label=\"f''(x)\")\n",
        "plt.plot(x_, fxn4(x_), color=\"gold\", label=\"f^iv(x)\")\n",
        "plt.xlabel(\"x\")\n",
        "plt.ylabel(\"f(x)\")\n",
        "plt.legend()\n",
        "plt.grid()\n",
        "plt.show()"
      ],
      "execution_count": null,
      "outputs": [
        {
          "output_type": "display_data",
          "data": {
            "image/png": "[encoded data removed]",
            "text/plain": [
              "<Figure size 432x288 with 1 Axes>"
            ]
          },
          "metadata": {
            "needs_background": "light"
          }
        }
      ]
    },
    {
      "cell_type": "markdown",
      "metadata": {
        "id": "v-1hiZ5C52Zp"
      },
      "source": [
        "# **3.0 Problemas**\n",
        "\n",
        "1. Suppose a body of mass m is traveling vertically upward starting at the surface of the earth. If all resistance except gravity is neglected, the escape velocity v is given by\n",
        "$$\n",
        "v^2=2gR\\int_1 ^\\infty z^{-2} dz,\n",
        "$$\n",
        "where z=x/R, R is the earth radius and g de gravity aceleration. Approximate the scape velocity\n",
        "\n",
        "2.  Write a double precision program to integrate an arbitrary function numerically using the trapezoid rule, the Simpson rule, and Gaussian quadrature. For our assumed problems there is an analytics answer:\n",
        "\n",
        "$$\n",
        "\\frac{\\mathrm{d}N(t)}{\\mathrm{d}t}=e^{-t}\n",
        "$$$$\n",
        "N(1)=\\int_0^{1}e^{-t} dt=1-e^{-1}\n",
        "$$\n",
        "3. Compute the relative error $\\epsilon=|numerical-exact|/exact$ in each case. Present your data in the tabular form with space or tabas seprating the field. Try N values of 2, 10, 20 , 40 , 80, 160\n",
        "\n",
        "N\t$\\epsilon_T$\t$\\epsilon_S$\t$\\epsilon_G$\n",
        "2\t...\t...\t...\n",
        "10\t...\t...\t...\n",
        "\n",
        "4. Make a log-log plot of relative errore versus. You should observe that $\\epsilon\\approx CN^{\\alpha}$, $\\mathrm{log} \\epsilon =\\alpha \\mathrm{log}N + \\mathrm{constant}$. This mean that a power-law dependence appears as a straight line on a log-log plot, and that if you use $\\log_{10}$, the the ordinate on your log-log plot will be the negative of the number of decimal places of presicion in your calculation. 6.4. Use your plot or table to stimate the power-law dependence of the error $\\epsilon$ on the number of points N and to determine the number of decimal places of presicion in your calculation. Do this for both the trapezoid and simpsons rules and for both the algolrithmic and round-off error regimes. (Note that if may be hard to reach the round-off error regime for the trapezoid rule becasue the aproximation ) error is so large"
      ]
    },
    {
      "cell_type": "markdown",
      "metadata": {
        "id": "ChzAhYNw6Cc3"
      },
      "source": [
        "# **Solución**\n",
        "\n",
        "**1. Velocidad de escape**"
      ]
    },
    {
      "cell_type": "code",
      "metadata": {
        "id": "3uF6LpAl6Qzt"
      },
      "source": [
        "#Datos\n",
        "R = 6371#km\n",
        "g = 9800#km/s^2"
      ],
      "execution_count": null,
      "outputs": []
    },
    {
      "cell_type": "markdown",
      "metadata": {
        "id": "iWr3IyQ8fvem"
      },
      "source": [
        "$$\n",
        "v^2=2gR\\int_1 ^\\infty z^{-2} dz\\\\ \n",
        "$$\n",
        "\n",
        "<center>Con $z = \\frac{x}{R}$ tenemos:\n",
        "$$\n",
        "v^2=2gR^2\\int_R ^\\infty \\frac{1}{x^2} dz,\n",
        "$$\n",
        "    \n",
        "Segun la biblbiografía, la velocidad de escape es $v^2 = 2gR$, veamos que esto se cumple"
      ]
    },
    {
      "cell_type": "code",
      "metadata": {
        "colab": {
          "base_uri": "https://localhost:8080/",
          "height": 37
        },
        "id": "jzvW0m92fxqU",
        "outputId": "4c6c32d9-ef06-45d7-f07a-6d8813be0cda"
      },
      "source": [
        "f= lambda x: 1/(x**2)#Función a integrar\n",
        "I = integrate.quad(f,R,np.inf)[0]#Se hace la integral \n",
        "I"
      ],
      "execution_count": null,
      "outputs": [
        {
          "output_type": "execute_result",
          "data": {
            "image/png": "[encoded data removed]",
            "text/latex": "$\\displaystyle 0.000156961230577163$",
            "text/plain": [
              "0.00015696123057716286"
            ]
          },
          "metadata": {},
          "execution_count": 20
        }
      ]
    },
    {
      "cell_type": "code",
      "metadata": {
        "colab": {
          "base_uri": "https://localhost:8080/",
          "height": 37
        },
        "id": "0bEUR2BTf7Zb",
        "outputId": "5ac71c03-7630-4a96-e148-c81de921fb7f"
      },
      "source": [
        "1/R#Resultado esperado"
      ],
      "execution_count": null,
      "outputs": [
        {
          "output_type": "execute_result",
          "data": {
            "image/png": "[encoded data removed]",
            "text/latex": "$\\displaystyle 0.000156961230576048$",
            "text/plain": [
              "0.0001569612305760477"
            ]
          },
          "metadata": {},
          "execution_count": 21
        }
      ]
    },
    {
      "cell_type": "markdown",
      "metadata": {
        "id": "dYTKo2JDf-S2"
      },
      "source": [
        "Notamos que el resultado de la integral es aproximadamente el valor numérico de $1/R$, por lo que se verifica la ecuación esperada."
      ]
    },
    {
      "cell_type": "code",
      "metadata": {
        "colab": {
          "base_uri": "https://localhost:8080/"
        },
        "id": "dQDYDHHMgD-5",
        "outputId": "a162f127-611b-42d0-a5c2-bee8e05ebf85"
      },
      "source": [
        "vc = np.sqrt(2*g*(R**2)*I)#Resultado calculado con la integral\n",
        "print(round(vc,7),\"m/s\")"
      ],
      "execution_count": null,
      "outputs": [
        {
          "output_type": "stream",
          "name": "stdout",
          "text": [
            "11174.5961896 m/s\n"
          ]
        }
      ]
    },
    {
      "cell_type": "code",
      "metadata": {
        "colab": {
          "base_uri": "https://localhost:8080/"
        },
        "id": "ktM9tV70gHKX",
        "outputId": "2b7ef938-72cb-46cc-bedd-fbcdb304d18c"
      },
      "source": [
        "vt = np.sqrt(2*g*R)#Resultado calculado dado por la teoría\n",
        "print(round(vt,7),\"m/s\")"
      ],
      "execution_count": null,
      "outputs": [
        {
          "output_type": "stream",
          "name": "stdout",
          "text": [
            "11174.5961896 m/s\n"
          ]
        }
      ]
    },
    {
      "cell_type": "markdown",
      "metadata": {
        "id": "32M8YEsLgOUx"
      },
      "source": [
        "Así, la velocidad de escape es $v_e = 11174.6 m/s$.\n",
        "\n",
        "Notemos que el resultado calculado con la integral coincide con el teorico hasta con 7 cifras significativas"
      ]
    },
    {
      "cell_type": "markdown",
      "metadata": {
        "id": "8Cu_5u-M6Rme"
      },
      "source": [
        "**2. Programa para resolver integrales por los métodos vistos**\n",
        "\n",
        "En la solución de la integral (1) del punto anterior se plantearon unos programas para resolver las integrales que pueden servir como respuesta alterna a las que se presentan a continuación.\n",
        "\n",
        "2.1 Regla del trapecio\n",
        "\n",
        "Con base en la expresión analítica:\n",
        "\n",
        " $${ \\int_a^b f(x)dx = \\frac{h}{2}\\left[f(a) + 2\\sum_{i=1}^{n-1}f(x_i) + f(b)\\right]-\\frac{b − a}{12}h^2f''(\\xi).}$$"
      ]
    },
    {
      "cell_type": "code",
      "metadata": {
        "id": "naVq2cH26jj7"
      },
      "source": [
        "# Método del trapecio\n",
        "\n",
        "def m_trap(f, a, b, n):\n",
        "   h = (b - a)/ n # Paso h\n",
        "   si = (f(a) + f(b))/ 2.  # Comenzar en f_{0}w_{0} + f_{n-1}w_{n-1}\n",
        "   for i in range(1, n): # Definir la suma hasta n-2 \n",
        "     S = si + f(a + i*h)  # Intervalo de hasta f_{1}w_{1} + f_{n-2}w_{n-2}\n",
        "   return S*h "
      ],
      "execution_count": null,
      "outputs": []
    },
    {
      "cell_type": "markdown",
      "metadata": {
        "id": "27bCNwuJ8bxp"
      },
      "source": [
        "2.2 Método de Simpson\n",
        "\n",
        "Con base en la expresión analítica:\n",
        "\n",
        "$${\n",
        " \\int_a^b f(x)dx = \\frac{h}{3}\\left[f(a) + 2\\sum_{i=1}^{(n/2)-1}f(x_{2i}) + 4\\sum_{i=1}^{n/2}f(x_{2i-1}) + f(b)\\right]-\\frac{b − a}{180}h^4f^{(4)}(\\xi)\n",
        ",}$$"
      ]
    },
    {
      "cell_type": "code",
      "metadata": {
        "id": "pxEfROVW8bEB"
      },
      "source": [
        "# Método de Simpson\n",
        "\n",
        "def m_simp(f, a, b, n):\n",
        "   h = (b - a)/ n\n",
        "   S0 = f(a) + f(b)\n",
        "   S1 = 0 \n",
        "   S2 = 0 \n",
        "   for i in range(1, n):  # Definir la suma hasta n-1\n",
        "     if (i%2 == 0):  \n",
        "        S2 += f(a + i*h) # Intervalo f(2xi)\n",
        "     else:\n",
        "        S1 += f(a + i*h) # Intervalo f(2x[i-1])\n",
        "   return (S0 + 2*S2 + 4*S1) * h/3"
      ],
      "execution_count": null,
      "outputs": []
    },
    {
      "cell_type": "markdown",
      "metadata": {
        "id": "FBrtr4BU9yvp"
      },
      "source": [
        "2.3 Cuadratura Gaussiana"
      ]
    },
    {
      "cell_type": "code",
      "metadata": {
        "id": "MB0-CaJ_980q"
      },
      "source": [
        "\"\"\"\n",
        "  Metodo de Cuadratura Gaussiana (Gauss–Legendre quadratura), con N puntos de intervalo\n",
        "  [a,b], con arreglos x y w de los puntos x_{i} o raíces del polinomio de Legendre, con pesos\n",
        "  w_{i}, con E el error deseado, y job: 0 para integración en [a, b],  1 para integración en [0, b]                                                                   \n",
        "  y 2 para integración en [a, inf] \n",
        "\"\"\"\n",
        "\n",
        "# Obtener w_{i} y los x_{i} \n",
        "def m_quad2(f, a, b, n):\n",
        "    w = np.zeros(n)           # Raíces del polinomio de Legendre\n",
        "    x = np.zeros(n)           # Pesos para la integración\n",
        "\n",
        "    m_quad1(n, 0, a, b, x, w)   # Puntos x_{i} y w_{i}\n",
        "    return sum(f(x)*w)        \n",
        "\n",
        "\n",
        "def m_quad1(n, job, a, b, x, w, E = 3.E-15):\n",
        " \n",
        "    m = (n + 1)//2 # Cálculo de la mitad de las raíces \n",
        "    for i in range(1, m + 1): \n",
        "        t = np.cos(np.pi*(i - 0.25)/(n + 0.5) ) # Condición inicial \n",
        "        t1 = 1                                  # i-esima raiz de orden n\n",
        "        while( (np.abs(t - t1) ) >= E):       # Newton iteration para hallar las raíces\n",
        "            p1 = 1. ; p2 = 0.                   \n",
        "            for j in range(1, n + 1):\n",
        "                p3 = p2                         # Relación de recurrencia del polinomio de Legendre (P_n(x))\n",
        "                p2 = p1                         \n",
        "                p1 = ( (2.*j - 1)*t*p2 - (j - 1.)*p3)/j\n",
        "                                                # Relación de recurrencia de las derivadas del polinomio de Legendre (P'_n(x))\n",
        "            pp = n*(t*p1 - p2)/(t*t - 1.)       \n",
        "            t1 = t\n",
        "            t  = t1 - p1/pp                     # Definición de x_{i} como x - P_n(x) / P'_n(x).\n",
        "\n",
        "        x[i - 1] = - t     \n",
        "        x[n - i] = t        # Cálculo de la otra mitad de las raíces\n",
        "        w[i - 1] = 2./( (1. - t*t)*pp*pp)       # Definición del peso\n",
        "        w[n - i] = w[i - 1]                     \n",
        "        # print(\" x[i - 1]\", x[i - 1] , \" w \" , w[n - i])\n",
        "    if (job == 0):\n",
        "        for i in range(0, n):\n",
        "            x[i] = x[i]*(b - a)/2. + (b + a)/2. # Transformación de [-1,1] al intervalo [a, b]\n",
        "            w[i] = w[i]*(b - a)/2.              \n",
        "            \n",
        "    if (job == 1):\n",
        "        for i in range(0, n):\n",
        "            xi = x[i]\n",
        "            x[i] = a*b*(1. + xi)/(b + a - (b - a)*xi)\n",
        "            w[i] = w[i]*2.*a*b*b/( (b + a - (b - a)*xi)**2. )\n",
        "            \n",
        "    if (job == 2):\n",
        "        for i in range(0, n):\n",
        "            xi = x[i]\n",
        "            x[i] = (b*xi + b + a + a)/(1. - xi)\n",
        "            w[i] = w[i]*2.*(a + b)/( (1. - xi)**2. ) \n"
      ],
      "execution_count": null,
      "outputs": []
    },
    {
      "cell_type": "markdown",
      "metadata": {
        "id": "NuzKUZ-mCJ4j"
      },
      "source": [
        "Considerando la solución analítica, \n",
        "\n",
        "$$\\frac{dN}{dt}=e^{-t} $$\n",
        "\n",
        "$$N(1)=\\int_0^1 e^{-t}dt= 1-e^{-1}$$\n",
        "\n",
        "Se tiene el resultado analítico o valor exacto de $1-e^{-1}$, para la integral en el intervalo (0, 1).\n"
      ]
    },
    {
      "cell_type": "markdown",
      "metadata": {
        "id": "tmXbFBmDBgk4"
      },
      "source": [
        "**3. Errores relativos**"
      ]
    },
    {
      "cell_type": "code",
      "metadata": {
        "colab": {
          "base_uri": "https://localhost:8080/",
          "height": 268
        },
        "id": "Z6m2VWmZDFSC",
        "outputId": "8872f35c-7cb8-4a55-a207-cde3a23d043a"
      },
      "source": [
        "# Errores relativos para cada caso\n",
        "\n",
        "# Definir la función \n",
        "\n",
        "def f(t):\n",
        "  y=(np.e)**(-t)\n",
        "  return y\n",
        "#f = lambda x: (np.e)**(-t)\n",
        "# Límites de integración\n",
        "a = 0\n",
        "b = 1\n",
        "# Valores de N\n",
        "N = [2, 10, 20, 40, 80, 160] \n",
        "\n",
        "# Errores\n",
        "def Er(m_, f): # m_: Método\n",
        "  N = [2, 10, 20, 40, 80, 160] # Valores de N\n",
        "  IE = (1-(np.e)**-1)*(np.ones(len(N))) # Arreglo con el resultado de la integral\n",
        "  I = np.zeros(len(N))  # Valor de la integral según el método\n",
        "  for i in range(len(N)):\n",
        "    I[i] = m_(f, a, b , N[i])\n",
        "  ER = np.abs(I - IE) \n",
        "  return ER\n",
        "# Para cada método\n",
        "er_t = Er(m_trap, f)\n",
        "er_s = Er(m_simp, f)\n",
        "er_q = Er(m_quad2, f)\n",
        "\n",
        "# Creación del DataFrame\n",
        "datos = {\"Error trapecio\": er_t,\"Error Simpson\": er_s,\"Error cuadratura\": er_q}\n",
        "datos\n",
        "df = pd.DataFrame(data=datos, index=N)\n",
        "df.index.name = \" Para N=\"\n",
        "df"
      ],
      "execution_count": null,
      "outputs": [
        {
          "output_type": "execute_result",
          "data": {
            "text/html": [
              "<div>\n",
              "<style scoped>\n",
              "    .dataframe tbody tr th:only-of-type {\n",
              "        vertical-align: middle;\n",
              "    }\n",
              "\n",
              "    .dataframe tbody tr th {\n",
              "        vertical-align: top;\n",
              "    }\n",
              "\n",
              "    .dataframe thead th {\n",
              "        text-align: right;\n",
              "    }\n",
              "</style>\n",
              "<table border=\"1\" class=\"dataframe\">\n",
              "  <thead>\n",
              "    <tr style=\"text-align: right;\">\n",
              "      <th></th>\n",
              "      <th>Error trapecio</th>\n",
              "      <th>Error Simpson</th>\n",
              "      <th>Error cuadratura</th>\n",
              "    </tr>\n",
              "    <tr>\n",
              "      <th>Para N=</th>\n",
              "      <th></th>\n",
              "      <th></th>\n",
              "      <th></th>\n",
              "    </tr>\n",
              "  </thead>\n",
              "  <tbody>\n",
              "    <tr>\n",
              "      <th>2</th>\n",
              "      <td>0.013115</td>\n",
              "      <td>2.131212e-04</td>\n",
              "      <td>1.417993e-04</td>\n",
              "    </tr>\n",
              "    <tr>\n",
              "      <th>10</th>\n",
              "      <td>0.523070</td>\n",
              "      <td>3.507605e-07</td>\n",
              "      <td>2.997602e-15</td>\n",
              "    </tr>\n",
              "    <tr>\n",
              "      <th>20</th>\n",
              "      <td>0.578587</td>\n",
              "      <td>2.194210e-08</td>\n",
              "      <td>1.332268e-15</td>\n",
              "    </tr>\n",
              "    <tr>\n",
              "      <th>40</th>\n",
              "      <td>0.605592</td>\n",
              "      <td>1.371687e-09</td>\n",
              "      <td>1.443290e-15</td>\n",
              "    </tr>\n",
              "    <tr>\n",
              "      <th>80</th>\n",
              "      <td>0.618915</td>\n",
              "      <td>8.573531e-11</td>\n",
              "      <td>2.109424e-15</td>\n",
              "    </tr>\n",
              "    <tr>\n",
              "      <th>160</th>\n",
              "      <td>0.625532</td>\n",
              "      <td>5.358380e-12</td>\n",
              "      <td>2.220446e-16</td>\n",
              "    </tr>\n",
              "  </tbody>\n",
              "</table>\n",
              "</div>"
            ],
            "text/plain": [
              "          Error trapecio  Error Simpson  Error cuadratura\n",
              " Para N=                                                 \n",
              "2               0.013115   2.131212e-04      1.417993e-04\n",
              "10              0.523070   3.507605e-07      2.997602e-15\n",
              "20              0.578587   2.194210e-08      1.332268e-15\n",
              "40              0.605592   1.371687e-09      1.443290e-15\n",
              "80              0.618915   8.573531e-11      2.109424e-15\n",
              "160             0.625532   5.358380e-12      2.220446e-16"
            ]
          },
          "metadata": {},
          "execution_count": 59
        }
      ]
    },
    {
      "cell_type": "markdown",
      "metadata": {
        "id": "jNeRlBcZI3AU"
      },
      "source": [
        "**4. Gráficas**"
      ]
    },
    {
      "cell_type": "code",
      "metadata": {
        "colab": {
          "base_uri": "https://localhost:8080/",
          "height": 317
        },
        "id": "DMl83kynI8tv",
        "outputId": "54936a60-d899-419c-f7bb-6fb003318faf"
      },
      "source": [
        "plt.title(\"Error relativo Vs. N\")\n",
        "plt.loglog(N, er_t, 'o--', color=\"red\", label=\"m_trap\")\n",
        "plt.loglog(N, er_s, 'o--', color=\"blue\", label=\"m_simp\")\n",
        "plt.loglog(N, er_q,'o--', color=\"black\", label=\"m_quad\")\n",
        "plt.legend()\n",
        "plt.xlabel(\"N\")\n",
        "plt.ylabel(\"Er\")"
      ],
      "execution_count": null,
      "outputs": [
        {
          "output_type": "execute_result",
          "data": {
            "text/plain": [
              "Text(0, 0.5, 'Er')"
            ]
          },
          "metadata": {},
          "execution_count": 64
        },
        {
          "output_type": "display_data",
          "data": {
            "image/png": "[encoded data removed]",
            "text/plain": [
              "<Figure size 432x288 with 1 Axes>"
            ]
          },
          "metadata": {
            "needs_background": "light"
          }
        }
      ]
    }
  ]
}